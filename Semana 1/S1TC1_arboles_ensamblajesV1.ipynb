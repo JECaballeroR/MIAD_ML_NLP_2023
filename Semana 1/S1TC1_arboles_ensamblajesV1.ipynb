{
 "cells": [
  {
   "cell_type": "markdown",
   "metadata": {},
   "source": [
    "![image info](https://raw.githubusercontent.com/albahnsen/MIAD_ML_and_NLP/main/images/banner_1.png)"
   ]
  },
  {
   "cell_type": "markdown",
   "metadata": {},
   "source": [
    "# Taller: Construcción e implementación de árboles de decisión y métodos de ensamblaje\n",
    "\n",
    "En este taller podrá poner en práctica los sus conocimientos sobre construcción e implementación de árboles de decisión y métodos de ensamblajes. El taller está constituido por 9 puntos, 5 relacionados con árboles de decisión (parte A) y 4 con métodos de ensamblaje (parte B)."
   ]
  },
  {
   "cell_type": "markdown",
   "metadata": {},
   "source": [
    "## Parte A - Árboles de decisión\n",
    "\n",
    "En esta parte del taller se usará el conjunto de datos de Capital Bikeshare de Kaggle, donde cada observación representa el alquiler de bicicletas durante una hora y día determinado. Para más detalles puede visitar los siguientes enlaces: [datos](https://archive.ics.uci.edu/ml/machine-learning-databases/00275/Bike-Sharing-Dataset.zip), [dicccionario de datos](https://archive.ics.uci.edu/ml/datasets/Bike+Sharing+Dataset#)."
   ]
  },
  {
   "cell_type": "markdown",
   "metadata": {},
   "source": [
    "### Datos prestamo de bicicletas"
   ]
  },
  {
   "cell_type": "code",
   "execution_count": 377,
   "metadata": {},
   "outputs": [],
   "source": [
    "import warnings\n",
    "warnings.filterwarnings('ignore')"
   ]
  },
  {
   "cell_type": "code",
   "execution_count": 378,
   "metadata": {},
   "outputs": [],
   "source": [
    "# Importación de librerías\n",
    "%matplotlib inline\n",
    "import pandas as pd\n",
    "import numpy as np\n",
    "from sklearn.model_selection import cross_val_score\n",
    "from sklearn.linear_model import LinearRegression\n",
    "from sklearn.tree import DecisionTreeRegressor, export_graphviz"
   ]
  },
  {
   "cell_type": "code",
   "execution_count": 379,
   "metadata": {},
   "outputs": [
    {
     "data": {
      "text/html": [
       "<div><div id=8760f2c7-bde1-4cb4-b380-bfc71c32a600 style=\"display:none; background-color:#9D6CFF; color:white; width:200px; height:30px; padding-left:5px; border-radius:4px; flex-direction:row; justify-content:space-around; align-items:center;\" onmouseover=\"this.style.backgroundColor='#BA9BF8'\" onmouseout=\"this.style.backgroundColor='#9D6CFF'\" onclick=\"window.commands?.execute('create-mitosheet-from-dataframe-output');\">See Full Dataframe in Mito</div> <script> if (window.commands.hasCommand('create-mitosheet-from-dataframe-output')) document.getElementById('8760f2c7-bde1-4cb4-b380-bfc71c32a600').style.display = 'flex' </script> <table border=\"1\" class=\"dataframe\">\n",
       "  <thead>\n",
       "    <tr style=\"text-align: right;\">\n",
       "      <th></th>\n",
       "      <th>season</th>\n",
       "      <th>holiday</th>\n",
       "      <th>workingday</th>\n",
       "      <th>weather</th>\n",
       "      <th>temp</th>\n",
       "      <th>atemp</th>\n",
       "      <th>humidity</th>\n",
       "      <th>windspeed</th>\n",
       "      <th>casual</th>\n",
       "      <th>registered</th>\n",
       "      <th>total</th>\n",
       "      <th>hour</th>\n",
       "    </tr>\n",
       "    <tr>\n",
       "      <th>datetime</th>\n",
       "      <th></th>\n",
       "      <th></th>\n",
       "      <th></th>\n",
       "      <th></th>\n",
       "      <th></th>\n",
       "      <th></th>\n",
       "      <th></th>\n",
       "      <th></th>\n",
       "      <th></th>\n",
       "      <th></th>\n",
       "      <th></th>\n",
       "      <th></th>\n",
       "    </tr>\n",
       "  </thead>\n",
       "  <tbody>\n",
       "    <tr>\n",
       "      <th>2011-01-01 00:00:00</th>\n",
       "      <td>1</td>\n",
       "      <td>0</td>\n",
       "      <td>0</td>\n",
       "      <td>1</td>\n",
       "      <td>9.84</td>\n",
       "      <td>14.395</td>\n",
       "      <td>81</td>\n",
       "      <td>0.0</td>\n",
       "      <td>3</td>\n",
       "      <td>13</td>\n",
       "      <td>16</td>\n",
       "      <td>0</td>\n",
       "    </tr>\n",
       "    <tr>\n",
       "      <th>2011-01-01 01:00:00</th>\n",
       "      <td>1</td>\n",
       "      <td>0</td>\n",
       "      <td>0</td>\n",
       "      <td>1</td>\n",
       "      <td>9.02</td>\n",
       "      <td>13.635</td>\n",
       "      <td>80</td>\n",
       "      <td>0.0</td>\n",
       "      <td>8</td>\n",
       "      <td>32</td>\n",
       "      <td>40</td>\n",
       "      <td>1</td>\n",
       "    </tr>\n",
       "    <tr>\n",
       "      <th>2011-01-01 02:00:00</th>\n",
       "      <td>1</td>\n",
       "      <td>0</td>\n",
       "      <td>0</td>\n",
       "      <td>1</td>\n",
       "      <td>9.02</td>\n",
       "      <td>13.635</td>\n",
       "      <td>80</td>\n",
       "      <td>0.0</td>\n",
       "      <td>5</td>\n",
       "      <td>27</td>\n",
       "      <td>32</td>\n",
       "      <td>2</td>\n",
       "    </tr>\n",
       "    <tr>\n",
       "      <th>2011-01-01 03:00:00</th>\n",
       "      <td>1</td>\n",
       "      <td>0</td>\n",
       "      <td>0</td>\n",
       "      <td>1</td>\n",
       "      <td>9.84</td>\n",
       "      <td>14.395</td>\n",
       "      <td>75</td>\n",
       "      <td>0.0</td>\n",
       "      <td>3</td>\n",
       "      <td>10</td>\n",
       "      <td>13</td>\n",
       "      <td>3</td>\n",
       "    </tr>\n",
       "    <tr>\n",
       "      <th>2011-01-01 04:00:00</th>\n",
       "      <td>1</td>\n",
       "      <td>0</td>\n",
       "      <td>0</td>\n",
       "      <td>1</td>\n",
       "      <td>9.84</td>\n",
       "      <td>14.395</td>\n",
       "      <td>75</td>\n",
       "      <td>0.0</td>\n",
       "      <td>0</td>\n",
       "      <td>1</td>\n",
       "      <td>1</td>\n",
       "      <td>4</td>\n",
       "    </tr>\n",
       "  </tbody>\n",
       "</table></div>"
      ],
      "text/plain": [
       "                     season  holiday  workingday  weather  temp   atemp  \\\n",
       "datetime                                                                  \n",
       "2011-01-01 00:00:00       1        0           0        1  9.84  14.395   \n",
       "2011-01-01 01:00:00       1        0           0        1  9.02  13.635   \n",
       "2011-01-01 02:00:00       1        0           0        1  9.02  13.635   \n",
       "2011-01-01 03:00:00       1        0           0        1  9.84  14.395   \n",
       "2011-01-01 04:00:00       1        0           0        1  9.84  14.395   \n",
       "\n",
       "                     humidity  windspeed  casual  registered  total  hour  \n",
       "datetime                                                                   \n",
       "2011-01-01 00:00:00        81        0.0       3          13     16     0  \n",
       "2011-01-01 01:00:00        80        0.0       8          32     40     1  \n",
       "2011-01-01 02:00:00        80        0.0       5          27     32     2  \n",
       "2011-01-01 03:00:00        75        0.0       3          10     13     3  \n",
       "2011-01-01 04:00:00        75        0.0       0           1      1     4  "
      ]
     },
     "execution_count": 379,
     "metadata": {},
     "output_type": "execute_result"
    }
   ],
   "source": [
    "# Lectura de la información de archivo .csv\n",
    "bikes = pd.read_csv('https://raw.githubusercontent.com/davidzarruk/MIAD_ML_NLP_2023/main/datasets/bikeshare.csv', index_col='datetime', parse_dates=True)\n",
    "\n",
    "# Renombrar variable \"count\" a \"total\"\n",
    "bikes.rename(columns={'count':'total'}, inplace=True)\n",
    "\n",
    "# Crear la hora como una variable \n",
    "bikes['hour'] = bikes.index.hour\n",
    "\n",
    "# Visualización de los datos\n",
    "bikes.head()"
   ]
  },
  {
   "cell_type": "markdown",
   "metadata": {},
   "source": [
    "### Punto 1 - Análisis descriptivo\n",
    "\n",
    "Ejecute las celdas 1.1 y 1.2. A partir de los resultados realice un análisis descriptivo sobre las variables \"season\" y \"hour\", escriba sus inferencias sobre los datos. Para complementar su análisis puede usar métricas como máximo, mínimo, percentiles entre otros."
   ]
  },
  {
   "cell_type": "code",
   "execution_count": 380,
   "metadata": {},
   "outputs": [
    {
     "data": {
      "text/plain": [
       "season\n",
       "1    116.343261\n",
       "2    215.251372\n",
       "3    234.417124\n",
       "4    198.988296\n",
       "Name: total, dtype: float64"
      ]
     },
     "execution_count": 380,
     "metadata": {},
     "output_type": "execute_result"
    }
   ],
   "source": [
    "# Celda 1.1\n",
    "bikes.groupby('season').total.mean()"
   ]
  },
  {
   "cell_type": "code",
   "execution_count": 381,
   "metadata": {
    "scrolled": true
   },
   "outputs": [
    {
     "data": {
      "text/plain": [
       "hour\n",
       "0      55.138462\n",
       "1      33.859031\n",
       "2      22.899554\n",
       "3      11.757506\n",
       "4       6.407240\n",
       "5      19.767699\n",
       "6      76.259341\n",
       "7     213.116484\n",
       "8     362.769231\n",
       "9     221.780220\n",
       "10    175.092308\n",
       "11    210.674725\n",
       "12    256.508772\n",
       "13    257.787281\n",
       "14    243.442982\n",
       "15    254.298246\n",
       "16    316.372807\n",
       "17    468.765351\n",
       "18    430.859649\n",
       "19    315.278509\n",
       "20    228.517544\n",
       "21    173.370614\n",
       "22    133.576754\n",
       "23     89.508772\n",
       "Name: total, dtype: float64"
      ]
     },
     "execution_count": 381,
     "metadata": {},
     "output_type": "execute_result"
    }
   ],
   "source": [
    "# Celda 1.2\n",
    "bikes.groupby('hour').total.mean()"
   ]
  },
  {
   "cell_type": "code",
   "execution_count": 382,
   "metadata": {},
   "outputs": [
    {
     "data": {
      "text/html": [
       "<div><div id=cc75e76c-90e1-498f-884e-b638d4c024c8 style=\"display:none; background-color:#9D6CFF; color:white; width:200px; height:30px; padding-left:5px; border-radius:4px; flex-direction:row; justify-content:space-around; align-items:center;\" onmouseover=\"this.style.backgroundColor='#BA9BF8'\" onmouseout=\"this.style.backgroundColor='#9D6CFF'\" onclick=\"window.commands?.execute('create-mitosheet-from-dataframe-output');\">See Full Dataframe in Mito</div> <script> if (window.commands.hasCommand('create-mitosheet-from-dataframe-output')) document.getElementById('cc75e76c-90e1-498f-884e-b638d4c024c8').style.display = 'flex' </script> <table border=\"1\" class=\"dataframe\">\n",
       "  <thead>\n",
       "    <tr style=\"text-align: right;\">\n",
       "      <th></th>\n",
       "      <th>season</th>\n",
       "      <th>hour</th>\n",
       "    </tr>\n",
       "  </thead>\n",
       "  <tbody>\n",
       "    <tr>\n",
       "      <th>count</th>\n",
       "      <td>10886.000000</td>\n",
       "      <td>10886.000000</td>\n",
       "    </tr>\n",
       "    <tr>\n",
       "      <th>mean</th>\n",
       "      <td>2.506614</td>\n",
       "      <td>11.541613</td>\n",
       "    </tr>\n",
       "    <tr>\n",
       "      <th>std</th>\n",
       "      <td>1.116174</td>\n",
       "      <td>6.915838</td>\n",
       "    </tr>\n",
       "    <tr>\n",
       "      <th>min</th>\n",
       "      <td>1.000000</td>\n",
       "      <td>0.000000</td>\n",
       "    </tr>\n",
       "    <tr>\n",
       "      <th>25%</th>\n",
       "      <td>2.000000</td>\n",
       "      <td>6.000000</td>\n",
       "    </tr>\n",
       "    <tr>\n",
       "      <th>50%</th>\n",
       "      <td>3.000000</td>\n",
       "      <td>12.000000</td>\n",
       "    </tr>\n",
       "    <tr>\n",
       "      <th>75%</th>\n",
       "      <td>4.000000</td>\n",
       "      <td>18.000000</td>\n",
       "    </tr>\n",
       "    <tr>\n",
       "      <th>max</th>\n",
       "      <td>4.000000</td>\n",
       "      <td>23.000000</td>\n",
       "    </tr>\n",
       "  </tbody>\n",
       "</table></div>"
      ],
      "text/plain": [
       "             season          hour\n",
       "count  10886.000000  10886.000000\n",
       "mean       2.506614     11.541613\n",
       "std        1.116174      6.915838\n",
       "min        1.000000      0.000000\n",
       "25%        2.000000      6.000000\n",
       "50%        3.000000     12.000000\n",
       "75%        4.000000     18.000000\n",
       "max        4.000000     23.000000"
      ]
     },
     "execution_count": 382,
     "metadata": {},
     "output_type": "execute_result"
    }
   ],
   "source": [
    "bikes.describe()[['season', 'hour']]"
   ]
  },
  {
   "cell_type": "markdown",
   "metadata": {},
   "source": [
    "Parece que solo existen valores con sentido. \"Season\" es una de las cuatro estaciones y \"hour\" es una de las horas del día. Sus rangos tienen sentido en función de la definición de los datos.\n",
    "\n",
    "En el caso de \"hour\", parece que a priori es una variable con cierta uniformidad, dado el comportamiento de los percentiles presentados y que la media tiende a ser 12. \"Season\" parece tener más datos en torno al 3, pero con un comportamiento relativamente uniforme. Estas hipótesis se validan mediante diagramas de barras:"
   ]
  },
  {
   "cell_type": "code",
   "execution_count": 383,
   "metadata": {},
   "outputs": [
    {
     "data": {
      "text/plain": [
       "<AxesSubplot:xlabel='season'>"
      ]
     },
     "execution_count": 383,
     "metadata": {},
     "output_type": "execute_result"
    },
    {
     "data": {
      "image/png": "[encoded data removed]",
      "text/plain": [
       "<Figure size 432x288 with 1 Axes>"
      ]
     },
     "metadata": {
      "needs_background": "light"
     },
     "output_type": "display_data"
    }
   ],
   "source": [
    "bikes.groupby(\"season\").count()[\"hour\"].plot(kind=\"bar\")\n",
    "# se plotea el barchart"
   ]
  },
  {
   "cell_type": "code",
   "execution_count": 384,
   "metadata": {},
   "outputs": [
    {
     "data": {
      "text/plain": [
       "season\n",
       "1    2686\n",
       "2    2733\n",
       "3    2733\n",
       "4    2734\n",
       "Name: hour, dtype: int64"
      ]
     },
     "execution_count": 384,
     "metadata": {},
     "output_type": "execute_result"
    }
   ],
   "source": [
    "bikes.groupby('season').count()['hour']\n",
    "# se observan los valores, notando que en el season 1 hay un menor valor. Esto es lo que causa la impresión inicial"
   ]
  },
  {
   "cell_type": "code",
   "execution_count": 385,
   "metadata": {},
   "outputs": [
    {
     "data": {
      "text/plain": [
       "<AxesSubplot:xlabel='hour'>"
      ]
     },
     "execution_count": 385,
     "metadata": {},
     "output_type": "execute_result"
    },
    {
     "data": {
      "image/png": "[encoded data removed]",
      "text/plain": [
       "<Figure size 432x288 with 1 Axes>"
      ]
     },
     "metadata": {
      "needs_background": "light"
     },
     "output_type": "display_data"
    }
   ],
   "source": [
    "bikes.groupby(\"hour\").count()[\"season\"].plot(kind=\"bar\")\n",
    "# de plotea el bar chart. Se ve que en general las horas son similares sus valores"
   ]
  },
  {
   "cell_type": "code",
   "execution_count": 386,
   "metadata": {},
   "outputs": [
    {
     "data": {
      "text/plain": [
       "hour\n",
       "0     455\n",
       "1     454\n",
       "2     448\n",
       "3     433\n",
       "4     442\n",
       "5     452\n",
       "6     455\n",
       "7     455\n",
       "8     455\n",
       "9     455\n",
       "10    455\n",
       "11    455\n",
       "12    456\n",
       "13    456\n",
       "14    456\n",
       "15    456\n",
       "16    456\n",
       "17    456\n",
       "18    456\n",
       "19    456\n",
       "20    456\n",
       "21    456\n",
       "22    456\n",
       "23    456\n",
       "Name: season, dtype: int64"
      ]
     },
     "execution_count": 386,
     "metadata": {},
     "output_type": "execute_result"
    }
   ],
   "source": [
    "bikes.groupby(\"hour\").count()[\"season\"]\n",
    "# Todas las horas tienden al mismo valor excepto alrededor de las 3 (de 2 a 4 cambia el valor)"
   ]
  },
  {
   "cell_type": "markdown",
   "metadata": {},
   "source": [
    "Los datos en general parecen tener una distribución uniforme coherente con el diccionario de datos."
   ]
  },
  {
   "cell_type": "markdown",
   "metadata": {},
   "source": [
    "### Punto 2 - Análisis de gráficos\n",
    "\n",
    "Primero ejecute la celda 2.1 y asegúrese de comprender el código y el resultado. Luego, en cada una de celdas 2.2 y 2.3 escriba un código que genere una gráfica del número de bicicletas rentadas promedio para cada valor de la variable \"hour\" (hora) cuando la variable \"season\" es igual a 1 (invierno) e igual a 3 (verano), respectivamente. Analice y escriba sus hallazgos."
   ]
  },
  {
   "cell_type": "code",
   "execution_count": 387,
   "metadata": {},
   "outputs": [
    {
     "data": {
      "text/plain": [
       "<AxesSubplot:xlabel='hour'>"
      ]
     },
     "execution_count": 387,
     "metadata": {},
     "output_type": "execute_result"
    },
    {
     "data": {
      "image/png": "[encoded data removed]",
      "text/plain": [
       "<Figure size 432x288 with 1 Axes>"
      ]
     },
     "metadata": {
      "needs_background": "light"
     },
     "output_type": "display_data"
    }
   ],
   "source": [
    "# Celda 2.1 - rentas promedio para cada valor de la variable \"hour\"\n",
    "bikes.groupby(\"hour\").total.mean().plot()"
   ]
  },
  {
   "cell_type": "code",
   "execution_count": 388,
   "metadata": {},
   "outputs": [
    {
     "data": {
      "text/plain": [
       "<AxesSubplot:xlabel='hour'>"
      ]
     },
     "execution_count": 388,
     "metadata": {},
     "output_type": "execute_result"
    },
    {
     "data": {
      "image/png": "[encoded data removed]",
      "text/plain": [
       "<Figure size 432x288 with 1 Axes>"
      ]
     },
     "metadata": {
      "needs_background": "light"
     },
     "output_type": "display_data"
    }
   ],
   "source": [
    "# Celda 2.2 - \"season\"=1 escriba su código y hallazgos\n",
    "winter = bikes[bikes[\"season\"] == 1].copy()\n",
    "winter.groupby(\"hour\").total.mean().plot()"
   ]
  },
  {
   "cell_type": "code",
   "execution_count": 389,
   "metadata": {},
   "outputs": [
    {
     "data": {
      "text/plain": [
       "<AxesSubplot:xlabel='hour'>"
      ]
     },
     "execution_count": 389,
     "metadata": {},
     "output_type": "execute_result"
    },
    {
     "data": {
      "image/png": "[encoded data removed]",
      "text/plain": [
       "<Figure size 432x288 with 1 Axes>"
      ]
     },
     "metadata": {
      "needs_background": "light"
     },
     "output_type": "display_data"
    }
   ],
   "source": [
    "# Celda 2.3 - \"season\"=3 escriba su código y hallazgos\n",
    "summer = bikes[bikes[\"season\"] == 3].copy()\n",
    "summer.groupby(\"hour\").total.mean().plot()"
   ]
  },
  {
   "cell_type": "markdown",
   "metadata": {},
   "source": [
    "El comportamiento de la media tiende a ser muy similar para el número promedio de bicicletas rentadas para cada valor de la variable hour, tanto a nivel global como en verano. Sin embargo, cuando la variable season es igual a 1 (en invierno), se observa un comportamiento marcadamente diferente, con una disminución en la media. Los picos que se observaban cerca de las 7 y las 17 horas, que llegaban hasta cerca de 400 y 550, respectivamente, solo llegan hasta cerca de 250 en invierno. En general, **parece que se alquilan menos bicicletas en invierno, pero el comportamiento de los alquileres en función de la hora parece mantenerse constante.**\n",
    "\n",
    "A continuación, se observará el season a nivel general:"
   ]
  },
  {
   "cell_type": "code",
   "execution_count": 390,
   "metadata": {},
   "outputs": [
    {
     "data": {
      "text/plain": [
       "<AxesSubplot:xlabel='season'>"
      ]
     },
     "execution_count": 390,
     "metadata": {},
     "output_type": "execute_result"
    },
    {
     "data": {
      "image/png": "[encoded data removed]",
      "text/plain": [
       "<Figure size 432x288 with 1 Axes>"
      ]
     },
     "metadata": {
      "needs_background": "light"
     },
     "output_type": "display_data"
    }
   ],
   "source": [
    "bikes.groupby('season').total.mean().plot(kind = 'bar')"
   ]
  },
  {
   "cell_type": "markdown",
   "metadata": {},
   "source": [
    "Parece ser que para cada estación, el total de alquileres varia (podría pensarse que por el clima, ya que la estación mas baja es season=1 que es invierno, la más fría)"
   ]
  },
  {
   "cell_type": "markdown",
   "metadata": {},
   "source": [
    "### Punto 3 - Regresión lineal\n",
    "En la celda 3 ajuste un modelo de regresión lineal a todo el conjunto de datos, utilizando \"total\" como variable de respuesta y \"season\" y \"hour\" como las únicas variables predictoras, teniendo en cuenta que la variable \"season\" es categórica. Luego, imprima los coeficientes e interprételos. ¿Cuáles son las limitaciones de la regresión lineal en este caso?"
   ]
  },
  {
   "cell_type": "code",
   "execution_count": 391,
   "metadata": {},
   "outputs": [
    {
     "data": {
      "text/html": [
       "<style>#sk-container-id-8 {color: black;background-color: white;}#sk-container-id-8 pre{padding: 0;}#sk-container-id-8 div.sk-toggleable {background-color: white;}#sk-container-id-8 label.sk-toggleable__label {cursor: pointer;display: block;width: 100%;margin-bottom: 0;padding: 0.3em;box-sizing: border-box;text-align: center;}#sk-container-id-8 label.sk-toggleable__label-arrow:before {content: \"▸\";float: left;margin-right: 0.25em;color: #696969;}#sk-container-id-8 label.sk-toggleable__label-arrow:hover:before {color: black;}#sk-container-id-8 div.sk-estimator:hover label.sk-toggleable__label-arrow:before {color: black;}#sk-container-id-8 div.sk-toggleable__content {max-height: 0;max-width: 0;overflow: hidden;text-align: left;background-color: #f0f8ff;}#sk-container-id-8 div.sk-toggleable__content pre {margin: 0.2em;color: black;border-radius: 0.25em;background-color: #f0f8ff;}#sk-container-id-8 input.sk-toggleable__control:checked~div.sk-toggleable__content {max-height: 200px;max-width: 100%;overflow: auto;}#sk-container-id-8 input.sk-toggleable__control:checked~label.sk-toggleable__label-arrow:before {content: \"▾\";}#sk-container-id-8 div.sk-estimator input.sk-toggleable__control:checked~label.sk-toggleable__label {background-color: #d4ebff;}#sk-container-id-8 div.sk-label input.sk-toggleable__control:checked~label.sk-toggleable__label {background-color: #d4ebff;}#sk-container-id-8 input.sk-hidden--visually {border: 0;clip: rect(1px 1px 1px 1px);clip: rect(1px, 1px, 1px, 1px);height: 1px;margin: -1px;overflow: hidden;padding: 0;position: absolute;width: 1px;}#sk-container-id-8 div.sk-estimator {font-family: monospace;background-color: #f0f8ff;border: 1px dotted black;border-radius: 0.25em;box-sizing: border-box;margin-bottom: 0.5em;}#sk-container-id-8 div.sk-estimator:hover {background-color: #d4ebff;}#sk-container-id-8 div.sk-parallel-item::after {content: \"\";width: 100%;border-bottom: 1px solid gray;flex-grow: 1;}#sk-container-id-8 div.sk-label:hover label.sk-toggleable__label {background-color: #d4ebff;}#sk-container-id-8 div.sk-serial::before {content: \"\";position: absolute;border-left: 1px solid gray;box-sizing: border-box;top: 0;bottom: 0;left: 50%;z-index: 0;}#sk-container-id-8 div.sk-serial {display: flex;flex-direction: column;align-items: center;background-color: white;padding-right: 0.2em;padding-left: 0.2em;position: relative;}#sk-container-id-8 div.sk-item {position: relative;z-index: 1;}#sk-container-id-8 div.sk-parallel {display: flex;align-items: stretch;justify-content: center;background-color: white;position: relative;}#sk-container-id-8 div.sk-item::before, #sk-container-id-8 div.sk-parallel-item::before {content: \"\";position: absolute;border-left: 1px solid gray;box-sizing: border-box;top: 0;bottom: 0;left: 50%;z-index: -1;}#sk-container-id-8 div.sk-parallel-item {display: flex;flex-direction: column;z-index: 1;position: relative;background-color: white;}#sk-container-id-8 div.sk-parallel-item:first-child::after {align-self: flex-end;width: 50%;}#sk-container-id-8 div.sk-parallel-item:last-child::after {align-self: flex-start;width: 50%;}#sk-container-id-8 div.sk-parallel-item:only-child::after {width: 0;}#sk-container-id-8 div.sk-dashed-wrapped {border: 1px dashed gray;margin: 0 0.4em 0.5em 0.4em;box-sizing: border-box;padding-bottom: 0.4em;background-color: white;}#sk-container-id-8 div.sk-label label {font-family: monospace;font-weight: bold;display: inline-block;line-height: 1.2em;}#sk-container-id-8 div.sk-label-container {text-align: center;}#sk-container-id-8 div.sk-container {/* jupyter's `normalize.less` sets `[hidden] { display: none; }` but bootstrap.min.css set `[hidden] { display: none !important; }` so we also need the `!important` here to be able to override the default hidden behavior on the sphinx rendered scikit-learn.org. See: https://github.com/scikit-learn/scikit-learn/issues/21755 */display: inline-block !important;position: relative;}#sk-container-id-8 div.sk-text-repr-fallback {display: none;}</style><div id=\"sk-container-id-8\" class=\"sk-top-container\"><div class=\"sk-text-repr-fallback\"><pre>LinearRegression()</pre><b>In a Jupyter environment, please rerun this cell to show the HTML representation or trust the notebook. <br />On GitHub, the HTML representation is unable to render, please try loading this page with nbviewer.org.</b></div><div class=\"sk-container\" hidden><div class=\"sk-item\"><div class=\"sk-estimator sk-toggleable\"><input class=\"sk-toggleable__control sk-hidden--visually\" id=\"sk-estimator-id-8\" type=\"checkbox\" checked><label for=\"sk-estimator-id-8\" class=\"sk-toggleable__label sk-toggleable__label-arrow\">LinearRegression</label><div class=\"sk-toggleable__content\"><pre>LinearRegression()</pre></div></div></div></div></div>"
      ],
      "text/plain": [
       "LinearRegression()"
      ]
     },
     "execution_count": 391,
     "metadata": {},
     "output_type": "execute_result"
    }
   ],
   "source": [
    "# Celda 3\n",
    "# Paso 0: se extraen los datos a usar.\n",
    "\n",
    "data3 = bikes[[\"total\", \"season\", \"hour\"]].copy()\n",
    "\n",
    "# Paso 1: tratamiento de la variable season.\n",
    "\n",
    "# se convierte en una categoria clásica para tratamiento\n",
    "seasons = {1: \"winter\", 2: \"spring\", 3: \"summer\", 4: \"fall\"}\n",
    "\n",
    "data3[\"season\"] = data3[\"season\"].replace(seasons)\n",
    "\n",
    "\n",
    "# Paso 2: Tratamiento de datos. Separación de datos\n",
    "from sklearn.model_selection import train_test_split\n",
    "from sklearn.linear_model import LinearRegression\n",
    "\n",
    "y = data3.total\n",
    "X = data3.drop(\"total\", axis=1)\n",
    "# Obtener dummies quitando una para respetar el supuesto de no multicolinealidad\n",
    "X = pd.get_dummies(X, drop_first=True)\n",
    "X_train, X_test, y_train, y_test = train_test_split(\n",
    "    X, y, test_size=0.2, random_state=4269\n",
    ")\n",
    "\n",
    "# Paso 3: Entrenar una regresión simple\n",
    "lr = LinearRegression()\n",
    "lr.fit(X_train, y_train)"
   ]
  },
  {
   "cell_type": "code",
   "execution_count": 392,
   "metadata": {},
   "outputs": [
    {
     "data": {
      "text/html": [
       "<div><div id=6eeee54d-e05c-48d1-9072-b927a94e5d32 style=\"display:none; background-color:#9D6CFF; color:white; width:200px; height:30px; padding-left:5px; border-radius:4px; flex-direction:row; justify-content:space-around; align-items:center;\" onmouseover=\"this.style.backgroundColor='#BA9BF8'\" onmouseout=\"this.style.backgroundColor='#9D6CFF'\" onclick=\"window.commands?.execute('create-mitosheet-from-dataframe-output');\">See Full Dataframe in Mito</div> <script> if (window.commands.hasCommand('create-mitosheet-from-dataframe-output')) document.getElementById('6eeee54d-e05c-48d1-9072-b927a94e5d32').style.display = 'flex' </script> <table border=\"1\" class=\"dataframe\">\n",
       "  <thead>\n",
       "    <tr style=\"text-align: right;\">\n",
       "      <th></th>\n",
       "      <th>hour</th>\n",
       "      <th>season_spring</th>\n",
       "      <th>season_summer</th>\n",
       "      <th>season_winter</th>\n",
       "    </tr>\n",
       "  </thead>\n",
       "  <tbody>\n",
       "    <tr>\n",
       "      <th>0</th>\n",
       "      <td>10.436436</td>\n",
       "      <td>15.281672</td>\n",
       "      <td>36.247784</td>\n",
       "      <td>-81.757173</td>\n",
       "    </tr>\n",
       "  </tbody>\n",
       "</table></div>"
      ],
      "text/plain": [
       "        hour  season_spring  season_summer  season_winter\n",
       "0  10.436436      15.281672      36.247784     -81.757173"
      ]
     },
     "execution_count": 392,
     "metadata": {},
     "output_type": "execute_result"
    }
   ],
   "source": [
    "pd.DataFrame(data= [lr.coef_], columns = lr.feature_names_in_)"
   ]
  },
  {
   "cell_type": "markdown",
   "metadata": {},
   "source": [
    "\n",
    "Los coeficientes se interpretan de la siguiente manera:\n",
    "\n",
    "1. Manteniendo todo lo demás constante, un incremento en la variable \"hour\" de una unidad genera un incremento promedio de 10.436436 unidades en la variable respuesta \"total\". Es decir, en promedio, cada hora del día se alquilan 10 bicicletas más.\n",
    "2. Para los otros coeficientes y manteniendo todo lo demás constante, cada coeficiente representa el cambio en función de la categoría de referencia \"fall\". Es decir, por ejemplo, el coeficiente de \"season_spring\" quiere decir que cuando la estación es primavera, en promedio se alquilan 15.281672 bicicletas más que cuando la estación es otoño.\n",
    "\n",
    "De los coeficientes, podemos ver que la estación con menos alquileres es invierno y la que más alquileres tiene es verano.\n",
    "\n",
    "Una limitación que tiene la regresión lineal es que \"promedia\" los efectos de los niveles. En el tratamiento que se dio para las estaciones, podemos ver que los niveles son diferentes. Pero si observamos la hora:"
   ]
  },
  {
   "cell_type": "code",
   "execution_count": 393,
   "metadata": {},
   "outputs": [
    {
     "data": {
      "text/plain": [
       "<AxesSubplot:xlabel='hour'>"
      ]
     },
     "execution_count": 393,
     "metadata": {},
     "output_type": "execute_result"
    },
    {
     "data": {
      "image/png": "[encoded data removed]",
      "text/plain": [
       "<Figure size 432x288 with 1 Axes>"
      ]
     },
     "metadata": {
      "needs_background": "light"
     },
     "output_type": "display_data"
    }
   ],
   "source": [
    "bikes.groupby('hour').total.mean().plot()"
   ]
  },
  {
   "cell_type": "markdown",
   "metadata": {},
   "source": [
    "La regresión generalmente refleja una tendencia creciente y su coeficiente se promedia en la \"caja\". El crecimiento general es de 10.436436, pero este valor no tiene en cuenta los picos que ocurren en ciertas horas.\n",
    "\n",
    "Si ocurre algo similar a lo que sucede con la estacionalidad, donde cada variable tiene un nivel marcadamente diferente (para cada estación, hay un efecto diferente sobre la variable respuesta), este efecto se \"perdería\" en el coeficiente de la regresión."
   ]
  },
  {
   "cell_type": "markdown",
   "metadata": {},
   "source": [
    "### Punto 4 - Árbol de decisión manual\n",
    "En la celda 4 cree un árbol de decisiones para pronosticar la variable \"total\" iterando **manualmente** sobre las variables \"hour\" y  \"season\". El árbol debe tener al menos 6 nodos finales."
   ]
  },
  {
   "cell_type": "code",
   "execution_count": 394,
   "metadata": {},
   "outputs": [],
   "source": [
    "# Celda 4\n",
    "# Paso 0: carga de datos y de funciones de interés adaptadas de los otros notebooks del curso\n",
    "# Codigo hecho a mano y adaptado de https://github.com/rizaozcelik/cmpe462-spring20/blob/master/RegressionTree/RegressionTree.ipynb\n",
    "\n",
    "\n",
    "data4 = bikes[[\"total\", \"season\", \"hour\"]].copy()\n",
    "\n",
    "y = data4.total\n",
    "X = data4.drop(\"total\", axis=1)\n",
    "X_train, X_test, y_train, y_test = train_test_split(\n",
    "    X, y, test_size=0.2, random_state=4269\n",
    ")\n",
    "\n",
    "from sklearn import metrics\n",
    "import numpy as np\n",
    "\n",
    "\n",
    "def rss(y_left, y_right):\n",
    "    \n",
    "    # Un posible criterio de métrica, calcular el Squared error\n",
    "    def squared_residual_sum(y):\n",
    "        return np.sum((y - np.mean(y)) ** 2)\n",
    "    \n",
    "    return squared_residual_sum(y_left) + squared_residual_sum(y_right)\n",
    "\n",
    "\n",
    "\n",
    "\n",
    "def best_split(X, y):\n",
    "    # Se inicia de valores vacios\n",
    "    best_feat, best_thres, min_rss = None, None, np.inf\n",
    "    \n",
    "    # Para cada columna\n",
    "    for feat in X.columns:\n",
    "        # Se eligen sus valores únicos ordenados\n",
    "        thres_list = list(X[feat].unique())\n",
    "        thres_list.sort()\n",
    "        thres_list = thres_list[1:]\n",
    "        # para cada valor único en la columna actual\n",
    "        for thres in thres_list:\n",
    "            \n",
    "            # Se separan los datos según el valor único de la columna actual\n",
    "            left_ix = X[feat] < thres\n",
    "            left, right = y[left_ix], y[~left_ix]\n",
    "            thres_rss =rss(left, right)\n",
    "            # se estima el RSS y se compara con el menor actual\n",
    "            if thres_rss < min_rss:\n",
    "                # Para el menor RSS, se hace el split en ese valor\n",
    "                min_rss = thres_rss\n",
    "                best_feat = feat\n",
    "                best_thres = thres\n",
    "                \n",
    "    # Al final de la búsqueda, se obtiene el split con el menor RSS\n",
    "    return {\"feature\": best_feat, \"threshold\": best_thres, 'rss':min_rss}\n",
    "\n",
    "\n",
    "def split_tree(X, y, current_depth, max_depth):\n",
    "    \n",
    "    # Si se llega a la profundidad máxima o no hay items para hacer un split, predecir\n",
    "    \n",
    "    if current_depth == max_depth or len(X) <= 2 :\n",
    "        return {\"pred\": np.mean(y)}\n",
    "    \n",
    "    # Hacer el split\n",
    "    split = best_split(X, y)\n",
    "    left_ix = X[split[\"feature\"]] < split[\"threshold\"]\n",
    "    # Intentar seguir iterando en ambos lados.\n",
    "    try:\n",
    "        split[\"left\"] = split_tree(X[left_ix], y[left_ix], current_depth + 1, max_depth)\n",
    "        split[\"right\"] = split_tree(X[~left_ix], y[~left_ix], current_depth + 1, max_depth)\n",
    "        \n",
    "        \n",
    "    # Por el error de que no haya splits posibles y lo siga intentando, se usa un except para devolver la predicción\n",
    "    except:\n",
    "        \n",
    "        return {\"pred\": np.mean(y)}\n",
    "        \n",
    "   \n",
    "    return split"
   ]
  },
  {
   "cell_type": "code",
   "execution_count": 395,
   "metadata": {},
   "outputs": [
    {
     "data": {
      "text/plain": [
       "{'feature': 'hour',\n",
       " 'threshold': 7,\n",
       " 'rss': 191580563.9924449,\n",
       " 'left': {'feature': 'hour',\n",
       "  'threshold': 6,\n",
       "  'rss': 3116361.253989337,\n",
       "  'left': {'feature': 'hour',\n",
       "   'threshold': 2,\n",
       "   'rss': 1654654.8085287667,\n",
       "   'left': {'feature': 'season',\n",
       "    'threshold': 2,\n",
       "    'rss': 1137355.2662904912,\n",
       "    'left': {'feature': 'hour',\n",
       "     'threshold': 1,\n",
       "     'rss': 93446.17815482503,\n",
       "     'left': {'pred': 27.73913043478261},\n",
       "     'right': {'pred': 20.341463414634145}},\n",
       "    'right': {'feature': 'hour',\n",
       "     'threshold': 1,\n",
       "     'rss': 942499.9861404994,\n",
       "     'left': {'pred': 64.88970588235294},\n",
       "     'right': {'pred': 38.05035971223022}}},\n",
       "   'right': {'feature': 'hour',\n",
       "    'threshold': 3,\n",
       "    'rss': 399657.13355398376,\n",
       "    'left': {'feature': 'season',\n",
       "     'threshold': 2,\n",
       "     'rss': 227303.7144082333,\n",
       "     'left': {'pred': 13.795454545454545},\n",
       "     'right': {'pred': 24.39622641509434}},\n",
       "    'right': {'feature': 'hour',\n",
       "     'threshold': 5,\n",
       "     'rss': 134819.84783951752,\n",
       "     'left': {'pred': 9.074647887323943},\n",
       "     'right': {'pred': 20.075718015665796}}}},\n",
       "  'right': {'pred': 74.40896358543418}},\n",
       " 'right': {'feature': 'season',\n",
       "  'threshold': 2,\n",
       "  'rss': 167254303.3748664,\n",
       "  'left': {'feature': 'hour',\n",
       "   'threshold': 20,\n",
       "   'rss': 23136804.008803524,\n",
       "   'left': {'feature': 'hour',\n",
       "    'threshold': 17,\n",
       "    'rss': 20414575.54083109,\n",
       "    'left': {'feature': 'hour',\n",
       "     'threshold': 9,\n",
       "     'rss': 13079264.073731823,\n",
       "     'left': {'pred': 189.16756756756757},\n",
       "     'right': {'pred': 148.03181189488242}},\n",
       "    'right': {'feature': 'hour',\n",
       "     'threshold': 19,\n",
       "     'rss': 6597012.479651162,\n",
       "     'left': {'pred': 270.52906976744185},\n",
       "     'right': {'pred': 181.4375}}},\n",
       "   'right': {'feature': 'hour',\n",
       "    'threshold': 22,\n",
       "    'rss': 1105116.2349450549,\n",
       "    'left': {'feature': 'hour',\n",
       "     'threshold': 21,\n",
       "     'rss': 767896.3742163009,\n",
       "     'left': {'pred': 121.75862068965517},\n",
       "     'right': {'pred': 95.92045454545455}},\n",
       "    'right': {'feature': 'hour',\n",
       "     'threshold': 23,\n",
       "     'rss': 263986.28061224485,\n",
       "     'left': {'pred': 76.03571428571429},\n",
       "     'right': {'pred': 44.83673469387755}}}},\n",
       "  'right': {'feature': 'hour',\n",
       "   'threshold': 21,\n",
       "   'rss': 123699227.78371999,\n",
       "   'left': {'feature': 'hour',\n",
       "    'threshold': 16,\n",
       "    'rss': 106010831.58571103,\n",
       "    'left': {'feature': 'hour',\n",
       "     'threshold': 9,\n",
       "     'rss': 58507445.66253424,\n",
       "     'left': {'pred': 322.83977900552486},\n",
       "     'right': {'pred': 259.45365095805283}},\n",
       "    'right': {'feature': 'hour',\n",
       "     'threshold': 19,\n",
       "     'rss': 39573009.90658209,\n",
       "     'left': {'pred': 451.286432160804},\n",
       "     'right': {'pred': 312.8415300546448}}},\n",
       "   'right': {'feature': 'hour',\n",
       "    'threshold': 23,\n",
       "    'rss': 3944780.3869314496,\n",
       "    'left': {'feature': 'hour',\n",
       "     'threshold': 22,\n",
       "     'rss': 2957914.6200650074,\n",
       "     'left': {'pred': 198.7473309608541},\n",
       "     'right': {'pred': 152.90613718411552}},\n",
       "    'right': {'feature': 'season',\n",
       "     'threshold': 4,\n",
       "     'rss': 649968.8706271864,\n",
       "     'left': {'pred': 114.4836956521739},\n",
       "     'right': {'pred': 87.26436781609195}}}}}}"
      ]
     },
     "execution_count": 395,
     "metadata": {},
     "output_type": "execute_result"
    }
   ],
   "source": [
    "# Para que tenga al menos 6 nodos finales, minima profundidad sería 3. Pongamos 5\n",
    "tree= split_tree(X_train, y_train, 0, 5)\n",
    "tree"
   ]
  },
  {
   "cell_type": "code",
   "execution_count": 396,
   "metadata": {},
   "outputs": [],
   "source": [
    "def predict(sample, rules):\n",
    "    \n",
    "    # La predicción es nula\n",
    "    prediction = None\n",
    "    while prediction is None:\n",
    "        \n",
    "        # Se explora el arbol iterativamente hasta llegar a un nodo predict 'pred'\n",
    "        \n",
    "        # Solo por si por algún motivo algo pasa mal, que no siga entrando y salga\n",
    "        if prediction is not None:\n",
    "            return prediction\n",
    "        \n",
    "        # Se obtienen los parámetros del nodo actual\n",
    "        feature, threshold = rules['feature'], rules['threshold']\n",
    "        \n",
    "        # Elegir por que lado irse en el arbol, si izquierda o derecha.\n",
    "        if sample[feature] < threshold:\n",
    "            rules = rules['left']\n",
    "        else:\n",
    "            rules = rules['right']\n",
    "            \n",
    "        # Dado que solo hay predicciones al final, esto hará que siga buscando hasta acabar un nodo\n",
    "        prediction = rules.get('pred', None)\n",
    "       \n",
    "        \n",
    "    return prediction\n",
    "\n",
    "def evaluate(X, y, metric = metrics.mean_squared_error):\n",
    "    \n",
    "    # Predice para todas las x usando el arbol\n",
    "    \n",
    "    # Usar una copia del arbol original para evitar problemas.\n",
    "    preds = X.apply(predict, axis='columns', rules=tree.copy())\n",
    "    #Devuelve la métrica dada\n",
    "    return metric(preds, y)"
   ]
  },
  {
   "cell_type": "code",
   "execution_count": 397,
   "metadata": {},
   "outputs": [
    {
     "data": {
      "text/plain": [
       "14335.064341511212"
      ]
     },
     "execution_count": 397,
     "metadata": {},
     "output_type": "execute_result"
    }
   ],
   "source": [
    "evaluate(X_train, y_train)"
   ]
  },
  {
   "cell_type": "code",
   "execution_count": 398,
   "metadata": {},
   "outputs": [
    {
     "data": {
      "text/plain": [
       "15171.15346197143"
      ]
     },
     "execution_count": 398,
     "metadata": {},
     "output_type": "execute_result"
    }
   ],
   "source": [
    "evaluate(X_test, y_test)"
   ]
  },
  {
   "cell_type": "code",
   "execution_count": 399,
   "metadata": {},
   "outputs": [
    {
     "data": {
      "text/plain": [
       "0.19546520661572964"
      ]
     },
     "execution_count": 399,
     "metadata": {},
     "output_type": "execute_result"
    }
   ],
   "source": [
    "evaluate(X_train, y_train, metrics.r2_score)"
   ]
  },
  {
   "cell_type": "code",
   "execution_count": 400,
   "metadata": {},
   "outputs": [
    {
     "data": {
      "text/plain": [
       "0.1778372431986126"
      ]
     },
     "execution_count": 400,
     "metadata": {},
     "output_type": "execute_result"
    }
   ],
   "source": [
    "evaluate(X_test, y_test, metrics.r2_score)"
   ]
  },
  {
   "cell_type": "markdown",
   "metadata": {},
   "source": [
    "El árbol tiende a tener un sobreajuste muy leve, pero tiene un desempeño similar en ambos conjuntos de entrenamiento y prueba.\n",
    "\n",
    "Sin embargo, su desempeño no es muy bueno, con un bajo R2 y un alto MSE."
   ]
  },
  {
   "cell_type": "code",
   "execution_count": null,
   "metadata": {},
   "outputs": [],
   "source": []
  },
  {
   "cell_type": "markdown",
   "metadata": {},
   "source": [
    "### Punto 5 - Árbol de decisión con librería\n",
    "En la celda 5 entrene un árbol de decisiones con la **librería sklearn**, usando las variables predictoras \"season\" y \"hour\" y calibre los parámetros que considere conveniente para obtener un mejor desempeño. Recuerde dividir los datos en conjuntos de entrenamiento y validación para esto. Comente el desempeño del modelo con alguna métrica de desempeño de modelos de regresión y compare desempeño con el modelo del punto 3."
   ]
  },
  {
   "cell_type": "code",
   "execution_count": 401,
   "metadata": {},
   "outputs": [
    {
     "data": {
      "text/plain": [
       "0.3237582737737519"
      ]
     },
     "execution_count": 401,
     "metadata": {},
     "output_type": "execute_result"
    }
   ],
   "source": [
    "# Celda 5\n",
    "#Los datos ya estaban dividos en ambos conjuntos del punto anterior.\n",
    "\n",
    "\n",
    "from sklearn.tree import DecisionTreeRegressor\n",
    "TreeRegressor= DecisionTreeRegressor(random_state=4269,\n",
    "                                    min_impurity_decrease=0.01,\n",
    "                                    min_samples_leaf=2,\n",
    "                                    criterion='friedman_mse')\n",
    "\n",
    "TreeRegressor.fit(X_train, y_train)\n",
    "\n",
    "\n",
    "metrics.r2_score(TreeRegressor.predict(X_test), y_test)\n"
   ]
  },
  {
   "cell_type": "code",
   "execution_count": 402,
   "metadata": {},
   "outputs": [
    {
     "data": {
      "text/plain": [
       "0.35387281477309696"
      ]
     },
     "execution_count": 402,
     "metadata": {},
     "output_type": "execute_result"
    }
   ],
   "source": [
    "metrics.r2_score(TreeRegressor.predict(X_train), y_train)\n"
   ]
  },
  {
   "cell_type": "code",
   "execution_count": 403,
   "metadata": {},
   "outputs": [
    {
     "data": {
      "text/plain": [
       "13535.107325089599"
      ]
     },
     "execution_count": 403,
     "metadata": {},
     "output_type": "execute_result"
    }
   ],
   "source": [
    "metrics.mean_squared_error(TreeRegressor.predict(X_test), y_test)\n"
   ]
  },
  {
   "cell_type": "code",
   "execution_count": 404,
   "metadata": {},
   "outputs": [
    {
     "data": {
      "text/plain": [
       "12620.445999467745"
      ]
     },
     "execution_count": 404,
     "metadata": {},
     "output_type": "execute_result"
    }
   ],
   "source": [
    "metrics.mean_squared_error(TreeRegressor.predict(X_train), y_train)\n"
   ]
  },
  {
   "cell_type": "code",
   "execution_count": null,
   "metadata": {},
   "outputs": [],
   "source": []
  },
  {
   "cell_type": "markdown",
   "metadata": {},
   "source": [
    "El modelo tiene un mejor desempeño que el realizado a mano (como se esperaba), mejorando el puntaje R2 y disminuyendo el MSE.\n",
    "\n",
    "Existe un leve sobreajuste, pero no es grave, ya que el modelo presenta desempeños similares para los conjuntos de entrenamiento y prueba."
   ]
  },
  {
   "cell_type": "markdown",
   "metadata": {},
   "source": [
    "## Parte B - Métodos de ensamblajes\n",
    "En esta parte del taller se usará el conjunto de datos de Popularidad de Noticias Online. El objetivo es predecir si la notica es popular o no, la popularidad está dada por la cantidad de reacciones en redes sociales. Para más detalles puede visitar el siguiente enlace: [datos](https://archive.ics.uci.edu/ml/datasets/online+news+popularity)."
   ]
  },
  {
   "cell_type": "markdown",
   "metadata": {},
   "source": [
    "### Datos popularidad de noticias"
   ]
  },
  {
   "cell_type": "code",
   "execution_count": 405,
   "metadata": {},
   "outputs": [
    {
     "data": {
      "text/html": [
       "<div><div id=ee4b8b7f-199f-4774-b8cf-a19165181416 style=\"display:none; background-color:#9D6CFF; color:white; width:200px; height:30px; padding-left:5px; border-radius:4px; flex-direction:row; justify-content:space-around; align-items:center;\" onmouseover=\"this.style.backgroundColor='#BA9BF8'\" onmouseout=\"this.style.backgroundColor='#9D6CFF'\" onclick=\"window.commands?.execute('create-mitosheet-from-dataframe-output');\">See Full Dataframe in Mito</div> <script> if (window.commands.hasCommand('create-mitosheet-from-dataframe-output')) document.getElementById('ee4b8b7f-199f-4774-b8cf-a19165181416').style.display = 'flex' </script> <table border=\"1\" class=\"dataframe\">\n",
       "  <thead>\n",
       "    <tr style=\"text-align: right;\">\n",
       "      <th></th>\n",
       "      <th>url</th>\n",
       "      <th>timedelta</th>\n",
       "      <th>n_tokens_title</th>\n",
       "      <th>n_tokens_content</th>\n",
       "      <th>n_unique_tokens</th>\n",
       "      <th>n_non_stop_words</th>\n",
       "      <th>n_non_stop_unique_tokens</th>\n",
       "      <th>num_hrefs</th>\n",
       "      <th>num_self_hrefs</th>\n",
       "      <th>num_imgs</th>\n",
       "      <th>...</th>\n",
       "      <th>min_positive_polarity</th>\n",
       "      <th>max_positive_polarity</th>\n",
       "      <th>avg_negative_polarity</th>\n",
       "      <th>min_negative_polarity</th>\n",
       "      <th>max_negative_polarity</th>\n",
       "      <th>title_subjectivity</th>\n",
       "      <th>title_sentiment_polarity</th>\n",
       "      <th>abs_title_subjectivity</th>\n",
       "      <th>abs_title_sentiment_polarity</th>\n",
       "      <th>Popular</th>\n",
       "    </tr>\n",
       "  </thead>\n",
       "  <tbody>\n",
       "    <tr>\n",
       "      <th>0</th>\n",
       "      <td>http://mashable.com/2014/12/10/cia-torture-report-whats-next/</td>\n",
       "      <td>28.0</td>\n",
       "      <td>9.0</td>\n",
       "      <td>188.0</td>\n",
       "      <td>0.732620</td>\n",
       "      <td>1.0</td>\n",
       "      <td>0.844262</td>\n",
       "      <td>5.0</td>\n",
       "      <td>1.0</td>\n",
       "      <td>1.0</td>\n",
       "      <td>...</td>\n",
       "      <td>0.200000</td>\n",
       "      <td>0.80</td>\n",
       "      <td>-0.487500</td>\n",
       "      <td>-0.60</td>\n",
       "      <td>-0.250000</td>\n",
       "      <td>0.9</td>\n",
       "      <td>0.8</td>\n",
       "      <td>0.4</td>\n",
       "      <td>0.8</td>\n",
       "      <td>1</td>\n",
       "    </tr>\n",
       "    <tr>\n",
       "      <th>1</th>\n",
       "      <td>http://mashable.com/2013/10/18/bitlock-kickstarter/</td>\n",
       "      <td>447.0</td>\n",
       "      <td>7.0</td>\n",
       "      <td>297.0</td>\n",
       "      <td>0.653199</td>\n",
       "      <td>1.0</td>\n",
       "      <td>0.815789</td>\n",
       "      <td>9.0</td>\n",
       "      <td>4.0</td>\n",
       "      <td>1.0</td>\n",
       "      <td>...</td>\n",
       "      <td>0.160000</td>\n",
       "      <td>0.50</td>\n",
       "      <td>-0.135340</td>\n",
       "      <td>-0.40</td>\n",
       "      <td>-0.050000</td>\n",
       "      <td>0.1</td>\n",
       "      <td>-0.1</td>\n",
       "      <td>0.4</td>\n",
       "      <td>0.1</td>\n",
       "      <td>0</td>\n",
       "    </tr>\n",
       "    <tr>\n",
       "      <th>2</th>\n",
       "      <td>http://mashable.com/2013/07/24/google-glass-porn-clip/</td>\n",
       "      <td>533.0</td>\n",
       "      <td>11.0</td>\n",
       "      <td>181.0</td>\n",
       "      <td>0.660377</td>\n",
       "      <td>1.0</td>\n",
       "      <td>0.775701</td>\n",
       "      <td>4.0</td>\n",
       "      <td>3.0</td>\n",
       "      <td>1.0</td>\n",
       "      <td>...</td>\n",
       "      <td>0.136364</td>\n",
       "      <td>1.00</td>\n",
       "      <td>0.000000</td>\n",
       "      <td>0.00</td>\n",
       "      <td>0.000000</td>\n",
       "      <td>0.3</td>\n",
       "      <td>1.0</td>\n",
       "      <td>0.2</td>\n",
       "      <td>1.0</td>\n",
       "      <td>0</td>\n",
       "    </tr>\n",
       "    <tr>\n",
       "      <th>3</th>\n",
       "      <td>http://mashable.com/2013/11/21/these-are-the-most-shared-ads-of-2013/</td>\n",
       "      <td>413.0</td>\n",
       "      <td>12.0</td>\n",
       "      <td>781.0</td>\n",
       "      <td>0.497409</td>\n",
       "      <td>1.0</td>\n",
       "      <td>0.677350</td>\n",
       "      <td>10.0</td>\n",
       "      <td>3.0</td>\n",
       "      <td>1.0</td>\n",
       "      <td>...</td>\n",
       "      <td>0.100000</td>\n",
       "      <td>1.00</td>\n",
       "      <td>-0.195701</td>\n",
       "      <td>-0.40</td>\n",
       "      <td>-0.071429</td>\n",
       "      <td>0.0</td>\n",
       "      <td>0.0</td>\n",
       "      <td>0.5</td>\n",
       "      <td>0.0</td>\n",
       "      <td>0</td>\n",
       "    </tr>\n",
       "    <tr>\n",
       "      <th>4</th>\n",
       "      <td>http://mashable.com/2014/02/11/parking-ticket-prank/</td>\n",
       "      <td>331.0</td>\n",
       "      <td>8.0</td>\n",
       "      <td>177.0</td>\n",
       "      <td>0.685714</td>\n",
       "      <td>1.0</td>\n",
       "      <td>0.830357</td>\n",
       "      <td>3.0</td>\n",
       "      <td>2.0</td>\n",
       "      <td>1.0</td>\n",
       "      <td>...</td>\n",
       "      <td>0.100000</td>\n",
       "      <td>0.55</td>\n",
       "      <td>-0.175000</td>\n",
       "      <td>-0.25</td>\n",
       "      <td>-0.100000</td>\n",
       "      <td>0.0</td>\n",
       "      <td>0.0</td>\n",
       "      <td>0.5</td>\n",
       "      <td>0.0</td>\n",
       "      <td>0</td>\n",
       "    </tr>\n",
       "  </tbody>\n",
       "</table></div>"
      ],
      "text/plain": [
       "                                                 url  timedelta  \\\n",
       "0  http://mashable.com/2014/12/10/cia-torture-rep...       28.0   \n",
       "1  http://mashable.com/2013/10/18/bitlock-kicksta...      447.0   \n",
       "2  http://mashable.com/2013/07/24/google-glass-po...      533.0   \n",
       "3  http://mashable.com/2013/11/21/these-are-the-m...      413.0   \n",
       "4  http://mashable.com/2014/02/11/parking-ticket-...      331.0   \n",
       "\n",
       "   n_tokens_title  n_tokens_content  n_unique_tokens  n_non_stop_words  \\\n",
       "0             9.0             188.0         0.732620               1.0   \n",
       "1             7.0             297.0         0.653199               1.0   \n",
       "2            11.0             181.0         0.660377               1.0   \n",
       "3            12.0             781.0         0.497409               1.0   \n",
       "4             8.0             177.0         0.685714               1.0   \n",
       "\n",
       "   n_non_stop_unique_tokens  num_hrefs  num_self_hrefs  num_imgs  ...  \\\n",
       "0                  0.844262        5.0             1.0       1.0  ...   \n",
       "1                  0.815789        9.0             4.0       1.0  ...   \n",
       "2                  0.775701        4.0             3.0       1.0  ...   \n",
       "3                  0.677350       10.0             3.0       1.0  ...   \n",
       "4                  0.830357        3.0             2.0       1.0  ...   \n",
       "\n",
       "   min_positive_polarity  max_positive_polarity  avg_negative_polarity  \\\n",
       "0               0.200000                   0.80              -0.487500   \n",
       "1               0.160000                   0.50              -0.135340   \n",
       "2               0.136364                   1.00               0.000000   \n",
       "3               0.100000                   1.00              -0.195701   \n",
       "4               0.100000                   0.55              -0.175000   \n",
       "\n",
       "   min_negative_polarity  max_negative_polarity  title_subjectivity  \\\n",
       "0                  -0.60              -0.250000                 0.9   \n",
       "1                  -0.40              -0.050000                 0.1   \n",
       "2                   0.00               0.000000                 0.3   \n",
       "3                  -0.40              -0.071429                 0.0   \n",
       "4                  -0.25              -0.100000                 0.0   \n",
       "\n",
       "   title_sentiment_polarity  abs_title_subjectivity  \\\n",
       "0                       0.8                     0.4   \n",
       "1                      -0.1                     0.4   \n",
       "2                       1.0                     0.2   \n",
       "3                       0.0                     0.5   \n",
       "4                       0.0                     0.5   \n",
       "\n",
       "   abs_title_sentiment_polarity  Popular  \n",
       "0                           0.8        1  \n",
       "1                           0.1        0  \n",
       "2                           1.0        0  \n",
       "3                           0.0        0  \n",
       "4                           0.0        0  \n",
       "\n",
       "[5 rows x 61 columns]"
      ]
     },
     "execution_count": 405,
     "metadata": {},
     "output_type": "execute_result"
    }
   ],
   "source": [
    "# Lectura de la información de archivo .csv\n",
    "df = pd.read_csv('https://raw.githubusercontent.com/davidzarruk/MIAD_ML_NLP_2023/main/datasets/mashable.csv', index_col=0)\n",
    "df.head()"
   ]
  },
  {
   "cell_type": "code",
   "execution_count": 406,
   "metadata": {},
   "outputs": [
    {
     "data": {
      "text/plain": [
       "0.5"
      ]
     },
     "execution_count": 406,
     "metadata": {},
     "output_type": "execute_result"
    }
   ],
   "source": [
    "# Definición variable de interes y variables predictoras\n",
    "X = df.drop(['url', 'Popular'], axis=1)\n",
    "y = df['Popular']\n",
    "y.mean()"
   ]
  },
  {
   "cell_type": "code",
   "execution_count": 407,
   "metadata": {},
   "outputs": [],
   "source": [
    "# División de la muestra en set de entrenamiento y prueba\n",
    "from sklearn.model_selection import train_test_split\n",
    "X_train, X_test, y_train, y_test = train_test_split(X, y, random_state=1)"
   ]
  },
  {
   "cell_type": "markdown",
   "metadata": {},
   "source": [
    "### Punto 6 - Árbol de decisión y regresión logística\n",
    "En la celda 6 construya un árbol de decisión y una regresión logística. Para el árbol calibre al menos un parámetro y evalúe el desempeño de cada modelo usando las métricas de Accuracy y F1-Score."
   ]
  },
  {
   "cell_type": "code",
   "execution_count": 408,
   "metadata": {},
   "outputs": [],
   "source": [
    "# Celda 6\n",
    "from sklearn.linear_model import LogisticRegression\n",
    "from sklearn.tree import DecisionTreeClassifier\n",
    "from sklearn.model_selection import cross_val_score\n",
    "# ARBOL:\n",
    "\n",
    "# Lista de valores para calibrar el criterio de parada de máxima profundidad (max_depth)\n",
    "max_depth_range = range(1, 42)\n",
    "\n",
    "# Lista para guardar los valores del RMSE para cada valor de máxima profundidad (max_depth)\n",
    "accuracy_scores = []\n",
    "\n",
    "\n",
    "for depth in max_depth_range:\n",
    "    # Definición del árbol de decisión usando DecisionTreeClassifier de la libreria sklearn\n",
    "    clf = DecisionTreeClassifier(max_depth=depth, random_state=1)\n",
    "    accuracy_scores.append(cross_val_score(clf, X_train, y_train, cv=5, scoring='accuracy').mean())\n"
   ]
  },
  {
   "cell_type": "code",
   "execution_count": 409,
   "metadata": {},
   "outputs": [
    {
     "data": {
      "text/plain": [
       "Text(0, 0.5, 'Accuracy')"
      ]
     },
     "execution_count": 409,
     "metadata": {},
     "output_type": "execute_result"
    },
    {
     "data": {
      "image/png": "[encoded data removed]",
      "text/plain": [
       "<Figure size 432x288 with 1 Axes>"
      ]
     },
     "metadata": {
      "needs_background": "light"
     },
     "output_type": "display_data"
    }
   ],
   "source": [
    "# Gráfica max_depth versus RMSE (error del modelo)\n",
    "%matplotlib inline\n",
    "import matplotlib.pyplot as plt\n",
    "plt.plot(max_depth_range, accuracy_scores)\n",
    "plt.xlabel('max_depth')\n",
    "plt.ylabel('Accuracy')\n",
    "\n",
    "\n",
    "# Dada la grafica, se toma profundidad = 2"
   ]
  },
  {
   "cell_type": "code",
   "execution_count": 410,
   "metadata": {},
   "outputs": [
    {
     "data": {
      "text/plain": [
       "(0.6242222222222222, 2)"
      ]
     },
     "execution_count": 410,
     "metadata": {},
     "output_type": "execute_result"
    }
   ],
   "source": [
    "sorted(zip(accuracy_scores, max_depth_range))[::-1][0]"
   ]
  },
  {
   "cell_type": "code",
   "execution_count": 411,
   "metadata": {},
   "outputs": [
    {
     "data": {
      "text/html": [
       "<style>#sk-container-id-9 {color: black;background-color: white;}#sk-container-id-9 pre{padding: 0;}#sk-container-id-9 div.sk-toggleable {background-color: white;}#sk-container-id-9 label.sk-toggleable__label {cursor: pointer;display: block;width: 100%;margin-bottom: 0;padding: 0.3em;box-sizing: border-box;text-align: center;}#sk-container-id-9 label.sk-toggleable__label-arrow:before {content: \"▸\";float: left;margin-right: 0.25em;color: #696969;}#sk-container-id-9 label.sk-toggleable__label-arrow:hover:before {color: black;}#sk-container-id-9 div.sk-estimator:hover label.sk-toggleable__label-arrow:before {color: black;}#sk-container-id-9 div.sk-toggleable__content {max-height: 0;max-width: 0;overflow: hidden;text-align: left;background-color: #f0f8ff;}#sk-container-id-9 div.sk-toggleable__content pre {margin: 0.2em;color: black;border-radius: 0.25em;background-color: #f0f8ff;}#sk-container-id-9 input.sk-toggleable__control:checked~div.sk-toggleable__content {max-height: 200px;max-width: 100%;overflow: auto;}#sk-container-id-9 input.sk-toggleable__control:checked~label.sk-toggleable__label-arrow:before {content: \"▾\";}#sk-container-id-9 div.sk-estimator input.sk-toggleable__control:checked~label.sk-toggleable__label {background-color: #d4ebff;}#sk-container-id-9 div.sk-label input.sk-toggleable__control:checked~label.sk-toggleable__label {background-color: #d4ebff;}#sk-container-id-9 input.sk-hidden--visually {border: 0;clip: rect(1px 1px 1px 1px);clip: rect(1px, 1px, 1px, 1px);height: 1px;margin: -1px;overflow: hidden;padding: 0;position: absolute;width: 1px;}#sk-container-id-9 div.sk-estimator {font-family: monospace;background-color: #f0f8ff;border: 1px dotted black;border-radius: 0.25em;box-sizing: border-box;margin-bottom: 0.5em;}#sk-container-id-9 div.sk-estimator:hover {background-color: #d4ebff;}#sk-container-id-9 div.sk-parallel-item::after {content: \"\";width: 100%;border-bottom: 1px solid gray;flex-grow: 1;}#sk-container-id-9 div.sk-label:hover label.sk-toggleable__label {background-color: #d4ebff;}#sk-container-id-9 div.sk-serial::before {content: \"\";position: absolute;border-left: 1px solid gray;box-sizing: border-box;top: 0;bottom: 0;left: 50%;z-index: 0;}#sk-container-id-9 div.sk-serial {display: flex;flex-direction: column;align-items: center;background-color: white;padding-right: 0.2em;padding-left: 0.2em;position: relative;}#sk-container-id-9 div.sk-item {position: relative;z-index: 1;}#sk-container-id-9 div.sk-parallel {display: flex;align-items: stretch;justify-content: center;background-color: white;position: relative;}#sk-container-id-9 div.sk-item::before, #sk-container-id-9 div.sk-parallel-item::before {content: \"\";position: absolute;border-left: 1px solid gray;box-sizing: border-box;top: 0;bottom: 0;left: 50%;z-index: -1;}#sk-container-id-9 div.sk-parallel-item {display: flex;flex-direction: column;z-index: 1;position: relative;background-color: white;}#sk-container-id-9 div.sk-parallel-item:first-child::after {align-self: flex-end;width: 50%;}#sk-container-id-9 div.sk-parallel-item:last-child::after {align-self: flex-start;width: 50%;}#sk-container-id-9 div.sk-parallel-item:only-child::after {width: 0;}#sk-container-id-9 div.sk-dashed-wrapped {border: 1px dashed gray;margin: 0 0.4em 0.5em 0.4em;box-sizing: border-box;padding-bottom: 0.4em;background-color: white;}#sk-container-id-9 div.sk-label label {font-family: monospace;font-weight: bold;display: inline-block;line-height: 1.2em;}#sk-container-id-9 div.sk-label-container {text-align: center;}#sk-container-id-9 div.sk-container {/* jupyter's `normalize.less` sets `[hidden] { display: none; }` but bootstrap.min.css set `[hidden] { display: none !important; }` so we also need the `!important` here to be able to override the default hidden behavior on the sphinx rendered scikit-learn.org. See: https://github.com/scikit-learn/scikit-learn/issues/21755 */display: inline-block !important;position: relative;}#sk-container-id-9 div.sk-text-repr-fallback {display: none;}</style><div id=\"sk-container-id-9\" class=\"sk-top-container\"><div class=\"sk-text-repr-fallback\"><pre>DecisionTreeClassifier(max_depth=2, random_state=1)</pre><b>In a Jupyter environment, please rerun this cell to show the HTML representation or trust the notebook. <br />On GitHub, the HTML representation is unable to render, please try loading this page with nbviewer.org.</b></div><div class=\"sk-container\" hidden><div class=\"sk-item\"><div class=\"sk-estimator sk-toggleable\"><input class=\"sk-toggleable__control sk-hidden--visually\" id=\"sk-estimator-id-9\" type=\"checkbox\" checked><label for=\"sk-estimator-id-9\" class=\"sk-toggleable__label sk-toggleable__label-arrow\">DecisionTreeClassifier</label><div class=\"sk-toggleable__content\"><pre>DecisionTreeClassifier(max_depth=2, random_state=1)</pre></div></div></div></div></div>"
      ],
      "text/plain": [
       "DecisionTreeClassifier(max_depth=2, random_state=1)"
      ]
     },
     "execution_count": 411,
     "metadata": {},
     "output_type": "execute_result"
    }
   ],
   "source": [
    "clf = DecisionTreeClassifier(max_depth=2, random_state=1)\n",
    "clf.fit(X_train, y_train)\n"
   ]
  },
  {
   "cell_type": "code",
   "execution_count": 412,
   "metadata": {},
   "outputs": [
    {
     "data": {
      "text/plain": [
       "0.6453333333333333"
      ]
     },
     "execution_count": 412,
     "metadata": {},
     "output_type": "execute_result"
    }
   ],
   "source": [
    "metrics.accuracy_score(y_test, clf.predict(X_test))"
   ]
  },
  {
   "cell_type": "code",
   "execution_count": 413,
   "metadata": {},
   "outputs": [
    {
     "data": {
      "text/plain": [
       "0.6326666666666667"
      ]
     },
     "execution_count": 413,
     "metadata": {},
     "output_type": "execute_result"
    }
   ],
   "source": [
    "metrics.accuracy_score(y_train, clf.predict(X_train))"
   ]
  },
  {
   "cell_type": "code",
   "execution_count": 414,
   "metadata": {},
   "outputs": [
    {
     "data": {
      "text/plain": [
       "0.6448598130841121"
      ]
     },
     "execution_count": 414,
     "metadata": {},
     "output_type": "execute_result"
    }
   ],
   "source": [
    "metrics.f1_score(y_test, clf.predict(X_test))"
   ]
  },
  {
   "cell_type": "code",
   "execution_count": 415,
   "metadata": {},
   "outputs": [
    {
     "data": {
      "text/plain": [
       "0.628956228956229"
      ]
     },
     "execution_count": 415,
     "metadata": {},
     "output_type": "execute_result"
    }
   ],
   "source": [
    "metrics.f1_score(y_train, clf.predict(X_train))"
   ]
  },
  {
   "cell_type": "code",
   "execution_count": 416,
   "metadata": {},
   "outputs": [
    {
     "data": {
      "text/plain": [
       "count    10.000000\n",
       "mean      0.646667\n",
       "std       0.035970\n",
       "min       0.593333\n",
       "25%       0.618333\n",
       "50%       0.653333\n",
       "75%       0.665000\n",
       "max       0.713333\n",
       "dtype: float64"
      ]
     },
     "execution_count": 416,
     "metadata": {},
     "output_type": "execute_result"
    }
   ],
   "source": [
    "# Impresión de resultados de desemepeño del árbol de decisión\n",
    "pd.Series(cross_val_score(clf, X_test, y_test, cv=10)).describe()"
   ]
  },
  {
   "cell_type": "code",
   "execution_count": 417,
   "metadata": {},
   "outputs": [
    {
     "data": {
      "text/plain": [
       "count    10.000000\n",
       "mean      0.630889\n",
       "std       0.014304\n",
       "min       0.606667\n",
       "25%       0.624444\n",
       "50%       0.634444\n",
       "75%       0.640000\n",
       "max       0.653333\n",
       "dtype: float64"
      ]
     },
     "execution_count": 417,
     "metadata": {},
     "output_type": "execute_result"
    }
   ],
   "source": [
    "pd.Series(cross_val_score(clf, X_train, y_train, cv=10)).describe()"
   ]
  },
  {
   "cell_type": "markdown",
   "metadata": {},
   "source": [
    "El desempeño del arbol parece ser bueno, con un f1 score y un accuracy mejores que el modelo base (lanzar una moneda).\n",
    "\n",
    "No parecen existir signos de un overfit extremo, siendo las métricas en train y test de valores similares.\n",
    "\n",
    "Usemos el árbol como una forma de selección de variables para la regresión (tomemos solo de los 10 feature importances más altos):"
   ]
  },
  {
   "cell_type": "code",
   "execution_count": 418,
   "metadata": {},
   "outputs": [
    {
     "data": {
      "text/plain": [
       "<AxesSubplot:>"
      ]
     },
     "execution_count": 418,
     "metadata": {},
     "output_type": "execute_result"
    },
    {
     "data": {
      "image/png": "[encoded data removed]",
      "text/plain": [
       "<Figure size 432x288 with 1 Axes>"
      ]
     },
     "metadata": {
      "needs_background": "light"
     },
     "output_type": "display_data"
    }
   ],
   "source": [
    "pd.DataFrame(\n",
    "    columns=clf.feature_names_in_, data=[clf.feature_importances_]\n",
    ").T.sort_values(by=0, ascending=False).head(10).plot(kind=\"bar\")"
   ]
  },
  {
   "cell_type": "code",
   "execution_count": 419,
   "metadata": {},
   "outputs": [],
   "source": [
    "lr = LogisticRegression().fit(X_train[['kw_avg_avg', 'kw_max_avg']], y_train)"
   ]
  },
  {
   "cell_type": "code",
   "execution_count": 420,
   "metadata": {},
   "outputs": [
    {
     "data": {
      "text/plain": [
       "0.5053333333333333"
      ]
     },
     "execution_count": 420,
     "metadata": {},
     "output_type": "execute_result"
    }
   ],
   "source": [
    "metrics.accuracy_score(y_test, lr.predict(X_test[['kw_avg_avg', 'kw_max_avg']]))"
   ]
  },
  {
   "cell_type": "code",
   "execution_count": 421,
   "metadata": {},
   "outputs": [
    {
     "data": {
      "text/plain": [
       "0.49866666666666665"
      ]
     },
     "execution_count": 421,
     "metadata": {},
     "output_type": "execute_result"
    }
   ],
   "source": [
    "metrics.accuracy_score(y_train, lr.predict(X_train[['kw_avg_avg', 'kw_max_avg']]))"
   ]
  },
  {
   "cell_type": "code",
   "execution_count": 422,
   "metadata": {},
   "outputs": [
    {
     "data": {
      "text/plain": [
       "0.6705150976909415"
      ]
     },
     "execution_count": 422,
     "metadata": {},
     "output_type": "execute_result"
    }
   ],
   "source": [
    "metrics.f1_score(y_test, lr.predict(X_test[['kw_avg_avg', 'kw_max_avg']]))"
   ]
  },
  {
   "cell_type": "code",
   "execution_count": 423,
   "metadata": {},
   "outputs": [
    {
     "data": {
      "text/plain": [
       "0.665083135391924"
      ]
     },
     "execution_count": 423,
     "metadata": {},
     "output_type": "execute_result"
    }
   ],
   "source": [
    "metrics.f1_score(y_train, lr.predict(X_train[['kw_avg_avg', 'kw_max_avg']]))"
   ]
  },
  {
   "cell_type": "markdown",
   "metadata": {},
   "source": [
    "La regresión logística aplicada tiene peor desempeño que el árbol en términos generales, incluso rozando el azar al tener un acc. de cerca del 0.5 (mejor lanzar una moneda). Probemos sin hacer ese feature selectiona ver cómo resulta:"
   ]
  },
  {
   "cell_type": "code",
   "execution_count": 424,
   "metadata": {},
   "outputs": [],
   "source": [
    "lr2 = LogisticRegression().fit(X_train, y_train)"
   ]
  },
  {
   "cell_type": "code",
   "execution_count": 425,
   "metadata": {},
   "outputs": [
    {
     "data": {
      "text/plain": [
       "0.6133333333333333"
      ]
     },
     "execution_count": 425,
     "metadata": {},
     "output_type": "execute_result"
    }
   ],
   "source": [
    "metrics.accuracy_score(y_test, lr2.predict(X_test))"
   ]
  },
  {
   "cell_type": "code",
   "execution_count": 426,
   "metadata": {},
   "outputs": [
    {
     "data": {
      "text/plain": [
       "0.6135555555555555"
      ]
     },
     "execution_count": 426,
     "metadata": {},
     "output_type": "execute_result"
    }
   ],
   "source": [
    "metrics.accuracy_score(y_train, lr2.predict(X_train))"
   ]
  },
  {
   "cell_type": "code",
   "execution_count": 427,
   "metadata": {},
   "outputs": [
    {
     "data": {
      "text/plain": [
       "0.6102150537634409"
      ]
     },
     "execution_count": 427,
     "metadata": {},
     "output_type": "execute_result"
    }
   ],
   "source": [
    "metrics.f1_score(y_test, lr2.predict(X_test))"
   ]
  },
  {
   "cell_type": "code",
   "execution_count": 428,
   "metadata": {},
   "outputs": [
    {
     "data": {
      "text/plain": [
       "0.6061155152887883"
      ]
     },
     "execution_count": 428,
     "metadata": {},
     "output_type": "execute_result"
    }
   ],
   "source": [
    "metrics.f1_score(y_train, lr2.predict(X_train))"
   ]
  },
  {
   "cell_type": "markdown",
   "metadata": {},
   "source": [
    "El modelo tiene un peor puntaje F1, pero una mejor precisión. Esto sugiere que el modelo comienza a predecir mejor una clase, pero no la otra, con la información adicional.\n",
    "\n",
    "Parece que las variables 'kw_avg_avg' y 'kw_max_avg' contienen información para clasificar con cierto nivel de certeza alguna de las dos clases, pero que otras variables contienen información para predecir mejor la otra clase."
   ]
  },
  {
   "cell_type": "markdown",
   "metadata": {},
   "source": [
    "### Punto 7 - Votación Mayoritaria\n",
    "En la celda 7 elabore un esamble con la metodología de **Votación mayoritaria** compuesto por 300 muestras bagged para cada uno de los siguientes escenarios:\n",
    "\n",
    "-100 árboles de decisión donde max_depth tome un valor de su elección\\\n",
    "-100 árboles de decisión donde min_samples_leaf tome un valor de su elección\\\n",
    "-100 regresiones logísticas\n",
    "\n",
    "Evalúe cada uno de los tres modelos de manera independiente utilizando las métricas de Accuracy y F1-Score, luego evalúe el ensamble de modelos y compare los resultados. "
   ]
  },
  {
   "cell_type": "code",
   "execution_count": 429,
   "metadata": {},
   "outputs": [],
   "source": [
    "# Celda 7\n",
    "from sklearn.ensemble import BaggingClassifier\n",
    "bagrega = BaggingClassifier(DecisionTreeClassifier(max_depth=2), n_estimators=100, \n",
    "                          bootstrap=True, oob_score=True, random_state=4269)\n",
    "bagregb = BaggingClassifier(DecisionTreeClassifier(min_samples_leaf=10), n_estimators=100, \n",
    "                          bootstrap=True, oob_score=True, random_state=4269)\n",
    "bagregc = BaggingClassifier(LogisticRegression(), n_estimators=100, \n",
    "                          bootstrap=True, oob_score=True, random_state=4269)\n",
    "\n",
    "models = {'Bagg  -  Max Depth  =  2': bagrega, 'Bagg - Min Samples Leaf=10':bagregb, 'Bag - Regresión logística': bagregc}"
   ]
  },
  {
   "cell_type": "code",
   "execution_count": 430,
   "metadata": {},
   "outputs": [],
   "source": [
    "for name in models:\n",
    "    models[name].fit(X_train, y_train)\n",
    "    \n"
   ]
  },
  {
   "cell_type": "code",
   "execution_count": null,
   "metadata": {},
   "outputs": [],
   "source": []
  },
  {
   "cell_type": "code",
   "execution_count": 431,
   "metadata": {},
   "outputs": [
    {
     "name": "stdout",
     "output_type": "stream",
     "text": [
      "ACCURACY EN TEST\n",
      "Bagg  -  Max Depth  =  2 \t 0.6453333333333333\n",
      "Bagg - Min Samples Leaf=10 \t 0.6526666666666666\n",
      "Bag - Regresión logística \t 0.618\n",
      "ACCURACY EN TRAIN\n",
      "Bagg  -  Max Depth  =  2 \t 0.6335555555555555\n",
      "Bagg - Min Samples Leaf=10 \t 0.9053333333333333\n",
      "Bag - Regresión logística \t 0.6204444444444445\n"
     ]
    }
   ],
   "source": [
    "print(\"ACCURACY EN TEST\")\n",
    "for name in models:\n",
    "    print(name, \"\\t\", metrics.accuracy_score(y_test, models[name].predict(X_test)))\n",
    "print(\"ACCURACY EN TRAIN\")\n",
    "for name in models:\n",
    "    print(name, \"\\t\", metrics.accuracy_score(y_train, models[name].predict(X_train)))"
   ]
  },
  {
   "cell_type": "code",
   "execution_count": 432,
   "metadata": {},
   "outputs": [
    {
     "name": "stdout",
     "output_type": "stream",
     "text": [
      "f1 EN TEST\n",
      "Bagg  -  Max Depth  =  2 \t 0.6434316353887399\n",
      "Bagg - Min Samples Leaf=10 \t 0.6570111915734035\n",
      "Bag - Regresión logística \t 0.613099257258609\n",
      "f1 EN TRAIN\n",
      "Bagg  -  Max Depth  =  2 \t 0.628184892897407\n",
      "Bagg - Min Samples Leaf=10 \t 0.9055851063829787\n",
      "Bag - Regresión logística \t 0.6118181818181817\n"
     ]
    }
   ],
   "source": [
    "print(\"f1 EN TEST\")\n",
    "for name in models:\n",
    "    print(name, \"\\t\", metrics.f1_score(y_test, models[name].predict(X_test)))\n",
    "print(\"f1 EN TRAIN\")\n",
    "for name in models:\n",
    "    print(name, \"\\t\", metrics.f1_score(y_train, models[name].predict(X_train)))"
   ]
  },
  {
   "cell_type": "code",
   "execution_count": 433,
   "metadata": {},
   "outputs": [
    {
     "data": {
      "text/html": [
       "<div><div id=5deb50da-534e-4dc4-8857-cf17bf177d06 style=\"display:none; background-color:#9D6CFF; color:white; width:200px; height:30px; padding-left:5px; border-radius:4px; flex-direction:row; justify-content:space-around; align-items:center;\" onmouseover=\"this.style.backgroundColor='#BA9BF8'\" onmouseout=\"this.style.backgroundColor='#9D6CFF'\" onclick=\"window.commands?.execute('create-mitosheet-from-dataframe-output');\">See Full Dataframe in Mito</div> <script> if (window.commands.hasCommand('create-mitosheet-from-dataframe-output')) document.getElementById('5deb50da-534e-4dc4-8857-cf17bf177d06').style.display = 'flex' </script> <table border=\"1\" class=\"dataframe\">\n",
       "  <thead>\n",
       "    <tr style=\"text-align: right;\">\n",
       "      <th></th>\n",
       "      <th>Model_Bagg  -  Max Depth  =  2</th>\n",
       "      <th>Model_Bagg - Min Samples Leaf=10</th>\n",
       "      <th>Model_Bag - Regresión logística</th>\n",
       "      <th>Prediccion</th>\n",
       "    </tr>\n",
       "  </thead>\n",
       "  <tbody>\n",
       "    <tr>\n",
       "      <th>2420</th>\n",
       "      <td>1</td>\n",
       "      <td>1</td>\n",
       "      <td>1</td>\n",
       "      <td>1</td>\n",
       "    </tr>\n",
       "    <tr>\n",
       "      <th>1225</th>\n",
       "      <td>1</td>\n",
       "      <td>1</td>\n",
       "      <td>0</td>\n",
       "      <td>1</td>\n",
       "    </tr>\n",
       "    <tr>\n",
       "      <th>324</th>\n",
       "      <td>0</td>\n",
       "      <td>0</td>\n",
       "      <td>0</td>\n",
       "      <td>0</td>\n",
       "    </tr>\n",
       "    <tr>\n",
       "      <th>5863</th>\n",
       "      <td>1</td>\n",
       "      <td>1</td>\n",
       "      <td>0</td>\n",
       "      <td>1</td>\n",
       "    </tr>\n",
       "    <tr>\n",
       "      <th>86</th>\n",
       "      <td>1</td>\n",
       "      <td>1</td>\n",
       "      <td>0</td>\n",
       "      <td>1</td>\n",
       "    </tr>\n",
       "    <tr>\n",
       "      <th>...</th>\n",
       "      <td>...</td>\n",
       "      <td>...</td>\n",
       "      <td>...</td>\n",
       "      <td>...</td>\n",
       "    </tr>\n",
       "    <tr>\n",
       "      <th>905</th>\n",
       "      <td>0</td>\n",
       "      <td>0</td>\n",
       "      <td>0</td>\n",
       "      <td>0</td>\n",
       "    </tr>\n",
       "    <tr>\n",
       "      <th>5192</th>\n",
       "      <td>1</td>\n",
       "      <td>1</td>\n",
       "      <td>1</td>\n",
       "      <td>1</td>\n",
       "    </tr>\n",
       "    <tr>\n",
       "      <th>3980</th>\n",
       "      <td>0</td>\n",
       "      <td>1</td>\n",
       "      <td>1</td>\n",
       "      <td>1</td>\n",
       "    </tr>\n",
       "    <tr>\n",
       "      <th>235</th>\n",
       "      <td>1</td>\n",
       "      <td>1</td>\n",
       "      <td>1</td>\n",
       "      <td>1</td>\n",
       "    </tr>\n",
       "    <tr>\n",
       "      <th>5157</th>\n",
       "      <td>0</td>\n",
       "      <td>0</td>\n",
       "      <td>0</td>\n",
       "      <td>0</td>\n",
       "    </tr>\n",
       "  </tbody>\n",
       "</table></div>"
      ],
      "text/plain": [
       "      Model_Bagg  -  Max Depth  =  2  Model_Bagg - Min Samples Leaf=10  \\\n",
       "2420                               1                                 1   \n",
       "1225                               1                                 1   \n",
       "324                                0                                 0   \n",
       "5863                               1                                 1   \n",
       "86                                 1                                 1   \n",
       "...                              ...                               ...   \n",
       "905                                0                                 0   \n",
       "5192                               1                                 1   \n",
       "3980                               0                                 1   \n",
       "235                                1                                 1   \n",
       "5157                               0                                 0   \n",
       "\n",
       "      Model_Bag - Regresión logística  Prediccion  \n",
       "2420                                1           1  \n",
       "1225                                0           1  \n",
       "324                                 0           0  \n",
       "5863                                0           1  \n",
       "86                                  0           1  \n",
       "...                               ...         ...  \n",
       "905                                 0           0  \n",
       "5192                                1           1  \n",
       "3980                                1           1  \n",
       "235                                 1           1  \n",
       "5157                                0           0  \n",
       "\n",
       "[4500 rows x 4 columns]"
      ]
     },
     "execution_count": 433,
     "metadata": {},
     "output_type": "execute_result"
    }
   ],
   "source": [
    "# Armar un dataframe para armar la predicción\n",
    "\n",
    "y_pred_train = X_train.copy()\n",
    "for name in models:\n",
    "    y_pred_train[f'Model_{name}'] = models[name].predict(X_train)\n",
    "\n",
    "y_pred_train = y_pred_train[[x for x in y_pred_train.columns if \"Model_\" in x]]\n",
    "y_pred_train['Prediccion'] = 0\n",
    "y_pred_train['Prediccion'] =y_pred_train.apply(lambda x: int(np.round(sum(x[:-1])/3)), axis=1)\n",
    "y_pred_train"
   ]
  },
  {
   "cell_type": "code",
   "execution_count": 434,
   "metadata": {},
   "outputs": [
    {
     "data": {
      "text/html": [
       "<div><div id=4f4dc7f3-f177-463c-8529-27c2b0aa489e style=\"display:none; background-color:#9D6CFF; color:white; width:200px; height:30px; padding-left:5px; border-radius:4px; flex-direction:row; justify-content:space-around; align-items:center;\" onmouseover=\"this.style.backgroundColor='#BA9BF8'\" onmouseout=\"this.style.backgroundColor='#9D6CFF'\" onclick=\"window.commands?.execute('create-mitosheet-from-dataframe-output');\">See Full Dataframe in Mito</div> <script> if (window.commands.hasCommand('create-mitosheet-from-dataframe-output')) document.getElementById('4f4dc7f3-f177-463c-8529-27c2b0aa489e').style.display = 'flex' </script> <table border=\"1\" class=\"dataframe\">\n",
       "  <thead>\n",
       "    <tr style=\"text-align: right;\">\n",
       "      <th></th>\n",
       "      <th>Model_Bagg  -  Max Depth  =  2</th>\n",
       "      <th>Model_Bagg - Min Samples Leaf=10</th>\n",
       "      <th>Model_Bag - Regresión logística</th>\n",
       "      <th>Prediccion</th>\n",
       "    </tr>\n",
       "  </thead>\n",
       "  <tbody>\n",
       "    <tr>\n",
       "      <th>1483</th>\n",
       "      <td>1</td>\n",
       "      <td>1</td>\n",
       "      <td>1</td>\n",
       "      <td>1</td>\n",
       "    </tr>\n",
       "    <tr>\n",
       "      <th>2185</th>\n",
       "      <td>1</td>\n",
       "      <td>1</td>\n",
       "      <td>1</td>\n",
       "      <td>1</td>\n",
       "    </tr>\n",
       "    <tr>\n",
       "      <th>2520</th>\n",
       "      <td>1</td>\n",
       "      <td>1</td>\n",
       "      <td>1</td>\n",
       "      <td>1</td>\n",
       "    </tr>\n",
       "    <tr>\n",
       "      <th>3721</th>\n",
       "      <td>1</td>\n",
       "      <td>1</td>\n",
       "      <td>1</td>\n",
       "      <td>1</td>\n",
       "    </tr>\n",
       "    <tr>\n",
       "      <th>3727</th>\n",
       "      <td>0</td>\n",
       "      <td>0</td>\n",
       "      <td>0</td>\n",
       "      <td>0</td>\n",
       "    </tr>\n",
       "    <tr>\n",
       "      <th>...</th>\n",
       "      <td>...</td>\n",
       "      <td>...</td>\n",
       "      <td>...</td>\n",
       "      <td>...</td>\n",
       "    </tr>\n",
       "    <tr>\n",
       "      <th>3077</th>\n",
       "      <td>1</td>\n",
       "      <td>0</td>\n",
       "      <td>0</td>\n",
       "      <td>0</td>\n",
       "    </tr>\n",
       "    <tr>\n",
       "      <th>5166</th>\n",
       "      <td>0</td>\n",
       "      <td>0</td>\n",
       "      <td>0</td>\n",
       "      <td>0</td>\n",
       "    </tr>\n",
       "    <tr>\n",
       "      <th>2227</th>\n",
       "      <td>1</td>\n",
       "      <td>1</td>\n",
       "      <td>1</td>\n",
       "      <td>1</td>\n",
       "    </tr>\n",
       "    <tr>\n",
       "      <th>5684</th>\n",
       "      <td>0</td>\n",
       "      <td>0</td>\n",
       "      <td>0</td>\n",
       "      <td>0</td>\n",
       "    </tr>\n",
       "    <tr>\n",
       "      <th>1937</th>\n",
       "      <td>0</td>\n",
       "      <td>0</td>\n",
       "      <td>0</td>\n",
       "      <td>0</td>\n",
       "    </tr>\n",
       "  </tbody>\n",
       "</table></div>"
      ],
      "text/plain": [
       "      Model_Bagg  -  Max Depth  =  2  Model_Bagg - Min Samples Leaf=10  \\\n",
       "1483                               1                                 1   \n",
       "2185                               1                                 1   \n",
       "2520                               1                                 1   \n",
       "3721                               1                                 1   \n",
       "3727                               0                                 0   \n",
       "...                              ...                               ...   \n",
       "3077                               1                                 0   \n",
       "5166                               0                                 0   \n",
       "2227                               1                                 1   \n",
       "5684                               0                                 0   \n",
       "1937                               0                                 0   \n",
       "\n",
       "      Model_Bag - Regresión logística  Prediccion  \n",
       "1483                                1           1  \n",
       "2185                                1           1  \n",
       "2520                                1           1  \n",
       "3721                                1           1  \n",
       "3727                                0           0  \n",
       "...                               ...         ...  \n",
       "3077                                0           0  \n",
       "5166                                0           0  \n",
       "2227                                1           1  \n",
       "5684                                0           0  \n",
       "1937                                0           0  \n",
       "\n",
       "[1500 rows x 4 columns]"
      ]
     },
     "execution_count": 434,
     "metadata": {},
     "output_type": "execute_result"
    }
   ],
   "source": [
    "# Armar un dataframe para armar la predicción, con la pereza de hacer una función para esto pero se que debería\n",
    "\n",
    "\n",
    "y_pred = X_test.copy()\n",
    "for name in models:\n",
    "    y_pred[f'Model_{name}'] = models[name].predict(X_test)\n",
    "\n",
    "y_pred = y_pred[[x for x in y_pred.columns if \"Model_\" in x]]\n",
    "y_pred['Prediccion'] = 0\n",
    "y_pred['Prediccion'] =y_pred.apply(lambda x: int(np.round(sum(x[:-1])/3)), axis=1)\n",
    "y_pred"
   ]
  },
  {
   "cell_type": "code",
   "execution_count": 435,
   "metadata": {},
   "outputs": [
    {
     "data": {
      "text/plain": [
       "0.7164444444444444"
      ]
     },
     "execution_count": 435,
     "metadata": {},
     "output_type": "execute_result"
    }
   ],
   "source": [
    "metrics.accuracy_score(y_train, y_pred_train['Prediccion'])"
   ]
  },
  {
   "cell_type": "code",
   "execution_count": 436,
   "metadata": {},
   "outputs": [
    {
     "data": {
      "text/plain": [
       "0.652"
      ]
     },
     "execution_count": 436,
     "metadata": {},
     "output_type": "execute_result"
    }
   ],
   "source": [
    "metrics.accuracy_score(y_test, y_pred['Prediccion'])"
   ]
  },
  {
   "cell_type": "code",
   "execution_count": 437,
   "metadata": {},
   "outputs": [
    {
     "data": {
      "text/plain": [
       "0.7115732368896927"
      ]
     },
     "execution_count": 437,
     "metadata": {},
     "output_type": "execute_result"
    }
   ],
   "source": [
    "metrics.f1_score(y_train, y_pred_train['Prediccion'])"
   ]
  },
  {
   "cell_type": "code",
   "execution_count": 438,
   "metadata": {},
   "outputs": [
    {
     "data": {
      "text/plain": [
       "0.6491935483870968"
      ]
     },
     "execution_count": 438,
     "metadata": {},
     "output_type": "execute_result"
    }
   ],
   "source": [
    "metrics.f1_score(y_test, y_pred['Prediccion'])"
   ]
  },
  {
   "cell_type": "markdown",
   "metadata": {},
   "source": [
    "En general, los resultados tienden a ser una especie de \"promedio\" de los resultados de los modelos (lo cual tiene cierto sentido, dado la forma en que se realiza la predicción).\n",
    "\n",
    "En particular, se observa un leve sobreajuste y métricas similares entre train y test. Uno de los modelos que utilizamos presentaba un sobreajuste severo (60-70 vs 90-99), el cual se vio mitigado al realizar un ensemble.\n",
    "\n",
    "Este ensemble toma parte de lo que generó el sobreajuste del modelo por separado, y a través de un método de aprendizaje, mejora el desempeño global del modelo en comparación con los modelos individuales."
   ]
  },
  {
   "cell_type": "code",
   "execution_count": null,
   "metadata": {},
   "outputs": [],
   "source": []
  },
  {
   "cell_type": "code",
   "execution_count": null,
   "metadata": {},
   "outputs": [],
   "source": []
  },
  {
   "cell_type": "code",
   "execution_count": null,
   "metadata": {},
   "outputs": [],
   "source": []
  },
  {
   "cell_type": "code",
   "execution_count": null,
   "metadata": {},
   "outputs": [],
   "source": []
  },
  {
   "cell_type": "markdown",
   "metadata": {},
   "source": [
    "### Punto 8 - Votación Ponderada\n",
    "En la celda 8 elabore un ensamble con la metodología de **Votación ponderada** compuesto por 300 muestras bagged para los mismos tres escenarios del punto 7. Evalúe los modelos utilizando las métricas de Accuracy y F1-Score"
   ]
  },
  {
   "cell_type": "code",
   "execution_count": 439,
   "metadata": {},
   "outputs": [],
   "source": [
    "# Celda 8\n",
    "\n",
    "# Me entra la duda de si desea que haga los 3 modelos y la votación ponderada de los 3 o...\n",
    "# si es hacer para los 3 casos votación ponderada.\n",
    "\n",
    "# Entrada la duda, probemos todo (además de permitir entender mejor el método)\n",
    "\n",
    "\n",
    "# CLASIFICADOR PONDERANDO LOS TRES CLASIFICADORES:\n",
    "\n",
    "from sklearn.ensemble import BaggingClassifier\n",
    "bagrega = BaggingClassifier(DecisionTreeClassifier(max_depth=2), n_estimators=300, \n",
    "                          bootstrap=True, oob_score=True, random_state=4269)\n",
    "bagregb = BaggingClassifier(DecisionTreeClassifier(min_samples_leaf=10), n_estimators=300, \n",
    "                          bootstrap=True, oob_score=True, random_state=4269)\n",
    "bagregc = BaggingClassifier(LogisticRegression(), n_estimators=300, \n",
    "                          bootstrap=True, oob_score=True, random_state=4269)\n",
    "\n",
    "models = {'Bagg  -  Max Depth  =  2': bagrega, 'Bagg - Min Samples Leaf=5':bagregb, 'Bag - Regresión logística': bagregc}\n",
    "\n",
    "for name in models:\n",
    "    models[name].fit(X_train, y_train)"
   ]
  },
  {
   "cell_type": "code",
   "execution_count": 440,
   "metadata": {},
   "outputs": [
    {
     "data": {
      "text/plain": [
       "array([0.3320024 , 0.32421641, 0.34378119])"
      ]
     },
     "execution_count": 440,
     "metadata": {},
     "output_type": "execute_result"
    }
   ],
   "source": [
    "# para la votación ponderada, se toma el oob_score_ de cada modelo obtenido y se pondera:\n",
    "\n",
    "oob_scores = []\n",
    "\n",
    "\n",
    "for name in models:\n",
    "    oob_scores.append(1-models[name].oob_score_)\n",
    "\n",
    "\n",
    "alphas = oob_scores/sum(oob_scores)\n",
    "alphas"
   ]
  },
  {
   "cell_type": "code",
   "execution_count": 441,
   "metadata": {},
   "outputs": [
    {
     "data": {
      "text/html": [
       "<div><div id=bb78c761-7a89-44ea-acfa-9145c0827eb5 style=\"display:none; background-color:#9D6CFF; color:white; width:200px; height:30px; padding-left:5px; border-radius:4px; flex-direction:row; justify-content:space-around; align-items:center;\" onmouseover=\"this.style.backgroundColor='#BA9BF8'\" onmouseout=\"this.style.backgroundColor='#9D6CFF'\" onclick=\"window.commands?.execute('create-mitosheet-from-dataframe-output');\">See Full Dataframe in Mito</div> <script> if (window.commands.hasCommand('create-mitosheet-from-dataframe-output')) document.getElementById('bb78c761-7a89-44ea-acfa-9145c0827eb5').style.display = 'flex' </script> <table border=\"1\" class=\"dataframe\">\n",
       "  <thead>\n",
       "    <tr style=\"text-align: right;\">\n",
       "      <th></th>\n",
       "      <th>Model_Bagg  -  Max Depth  =  2</th>\n",
       "      <th>Model_Bagg - Min Samples Leaf=5</th>\n",
       "      <th>Model_Bag - Regresión logística</th>\n",
       "      <th>Prediccion</th>\n",
       "    </tr>\n",
       "  </thead>\n",
       "  <tbody>\n",
       "    <tr>\n",
       "      <th>1483</th>\n",
       "      <td>1</td>\n",
       "      <td>1</td>\n",
       "      <td>1</td>\n",
       "      <td>1</td>\n",
       "    </tr>\n",
       "    <tr>\n",
       "      <th>2185</th>\n",
       "      <td>1</td>\n",
       "      <td>1</td>\n",
       "      <td>1</td>\n",
       "      <td>1</td>\n",
       "    </tr>\n",
       "    <tr>\n",
       "      <th>2520</th>\n",
       "      <td>1</td>\n",
       "      <td>1</td>\n",
       "      <td>1</td>\n",
       "      <td>1</td>\n",
       "    </tr>\n",
       "    <tr>\n",
       "      <th>3721</th>\n",
       "      <td>1</td>\n",
       "      <td>1</td>\n",
       "      <td>1</td>\n",
       "      <td>1</td>\n",
       "    </tr>\n",
       "    <tr>\n",
       "      <th>3727</th>\n",
       "      <td>0</td>\n",
       "      <td>0</td>\n",
       "      <td>0</td>\n",
       "      <td>0</td>\n",
       "    </tr>\n",
       "    <tr>\n",
       "      <th>...</th>\n",
       "      <td>...</td>\n",
       "      <td>...</td>\n",
       "      <td>...</td>\n",
       "      <td>...</td>\n",
       "    </tr>\n",
       "    <tr>\n",
       "      <th>3077</th>\n",
       "      <td>1</td>\n",
       "      <td>0</td>\n",
       "      <td>0</td>\n",
       "      <td>0</td>\n",
       "    </tr>\n",
       "    <tr>\n",
       "      <th>5166</th>\n",
       "      <td>0</td>\n",
       "      <td>0</td>\n",
       "      <td>0</td>\n",
       "      <td>0</td>\n",
       "    </tr>\n",
       "    <tr>\n",
       "      <th>2227</th>\n",
       "      <td>1</td>\n",
       "      <td>1</td>\n",
       "      <td>1</td>\n",
       "      <td>1</td>\n",
       "    </tr>\n",
       "    <tr>\n",
       "      <th>5684</th>\n",
       "      <td>0</td>\n",
       "      <td>0</td>\n",
       "      <td>0</td>\n",
       "      <td>0</td>\n",
       "    </tr>\n",
       "    <tr>\n",
       "      <th>1937</th>\n",
       "      <td>0</td>\n",
       "      <td>0</td>\n",
       "      <td>0</td>\n",
       "      <td>0</td>\n",
       "    </tr>\n",
       "  </tbody>\n",
       "</table></div>"
      ],
      "text/plain": [
       "      Model_Bagg  -  Max Depth  =  2  Model_Bagg - Min Samples Leaf=5  \\\n",
       "1483                               1                                1   \n",
       "2185                               1                                1   \n",
       "2520                               1                                1   \n",
       "3721                               1                                1   \n",
       "3727                               0                                0   \n",
       "...                              ...                              ...   \n",
       "3077                               1                                0   \n",
       "5166                               0                                0   \n",
       "2227                               1                                1   \n",
       "5684                               0                                0   \n",
       "1937                               0                                0   \n",
       "\n",
       "      Model_Bag - Regresión logística  Prediccion  \n",
       "1483                                1           1  \n",
       "2185                                1           1  \n",
       "2520                                1           1  \n",
       "3721                                1           1  \n",
       "3727                                0           0  \n",
       "...                               ...         ...  \n",
       "3077                                0           0  \n",
       "5166                                0           0  \n",
       "2227                                1           1  \n",
       "5684                                0           0  \n",
       "1937                                0           0  \n",
       "\n",
       "[1500 rows x 4 columns]"
      ]
     },
     "execution_count": 441,
     "metadata": {},
     "output_type": "execute_result"
    }
   ],
   "source": [
    "y_pred = X_test.copy()\n",
    "for name in models:\n",
    "    y_pred[f'Model_{name}'] = models[name].predict(X_test)\n",
    "\n",
    "y_pred = y_pred[[x for x in y_pred.columns if \"Model_\" in x]]\n",
    "y_pred['Prediccion'] =y_pred.apply(lambda x: int(sum(x * alphas) >=0.5), axis=1)\n",
    "y_pred"
   ]
  },
  {
   "cell_type": "code",
   "execution_count": 442,
   "metadata": {},
   "outputs": [
    {
     "data": {
      "text/html": [
       "<div><div id=b5363d81-39bb-4083-b188-46d6f6e23bd4 style=\"display:none; background-color:#9D6CFF; color:white; width:200px; height:30px; padding-left:5px; border-radius:4px; flex-direction:row; justify-content:space-around; align-items:center;\" onmouseover=\"this.style.backgroundColor='#BA9BF8'\" onmouseout=\"this.style.backgroundColor='#9D6CFF'\" onclick=\"window.commands?.execute('create-mitosheet-from-dataframe-output');\">See Full Dataframe in Mito</div> <script> if (window.commands.hasCommand('create-mitosheet-from-dataframe-output')) document.getElementById('b5363d81-39bb-4083-b188-46d6f6e23bd4').style.display = 'flex' </script> <table border=\"1\" class=\"dataframe\">\n",
       "  <thead>\n",
       "    <tr style=\"text-align: right;\">\n",
       "      <th></th>\n",
       "      <th>Model_Bagg  -  Max Depth  =  2</th>\n",
       "      <th>Model_Bagg - Min Samples Leaf=5</th>\n",
       "      <th>Model_Bag - Regresión logística</th>\n",
       "      <th>Prediccion</th>\n",
       "    </tr>\n",
       "  </thead>\n",
       "  <tbody>\n",
       "    <tr>\n",
       "      <th>2420</th>\n",
       "      <td>1</td>\n",
       "      <td>1</td>\n",
       "      <td>1</td>\n",
       "      <td>1</td>\n",
       "    </tr>\n",
       "    <tr>\n",
       "      <th>1225</th>\n",
       "      <td>1</td>\n",
       "      <td>1</td>\n",
       "      <td>0</td>\n",
       "      <td>1</td>\n",
       "    </tr>\n",
       "    <tr>\n",
       "      <th>324</th>\n",
       "      <td>0</td>\n",
       "      <td>0</td>\n",
       "      <td>0</td>\n",
       "      <td>0</td>\n",
       "    </tr>\n",
       "    <tr>\n",
       "      <th>5863</th>\n",
       "      <td>1</td>\n",
       "      <td>1</td>\n",
       "      <td>0</td>\n",
       "      <td>1</td>\n",
       "    </tr>\n",
       "    <tr>\n",
       "      <th>86</th>\n",
       "      <td>1</td>\n",
       "      <td>1</td>\n",
       "      <td>0</td>\n",
       "      <td>1</td>\n",
       "    </tr>\n",
       "    <tr>\n",
       "      <th>...</th>\n",
       "      <td>...</td>\n",
       "      <td>...</td>\n",
       "      <td>...</td>\n",
       "      <td>...</td>\n",
       "    </tr>\n",
       "    <tr>\n",
       "      <th>905</th>\n",
       "      <td>0</td>\n",
       "      <td>0</td>\n",
       "      <td>0</td>\n",
       "      <td>0</td>\n",
       "    </tr>\n",
       "    <tr>\n",
       "      <th>5192</th>\n",
       "      <td>1</td>\n",
       "      <td>1</td>\n",
       "      <td>1</td>\n",
       "      <td>1</td>\n",
       "    </tr>\n",
       "    <tr>\n",
       "      <th>3980</th>\n",
       "      <td>0</td>\n",
       "      <td>1</td>\n",
       "      <td>1</td>\n",
       "      <td>1</td>\n",
       "    </tr>\n",
       "    <tr>\n",
       "      <th>235</th>\n",
       "      <td>1</td>\n",
       "      <td>1</td>\n",
       "      <td>1</td>\n",
       "      <td>1</td>\n",
       "    </tr>\n",
       "    <tr>\n",
       "      <th>5157</th>\n",
       "      <td>0</td>\n",
       "      <td>0</td>\n",
       "      <td>0</td>\n",
       "      <td>0</td>\n",
       "    </tr>\n",
       "  </tbody>\n",
       "</table></div>"
      ],
      "text/plain": [
       "      Model_Bagg  -  Max Depth  =  2  Model_Bagg - Min Samples Leaf=5  \\\n",
       "2420                               1                                1   \n",
       "1225                               1                                1   \n",
       "324                                0                                0   \n",
       "5863                               1                                1   \n",
       "86                                 1                                1   \n",
       "...                              ...                              ...   \n",
       "905                                0                                0   \n",
       "5192                               1                                1   \n",
       "3980                               0                                1   \n",
       "235                                1                                1   \n",
       "5157                               0                                0   \n",
       "\n",
       "      Model_Bag - Regresión logística  Prediccion  \n",
       "2420                                1           1  \n",
       "1225                                0           1  \n",
       "324                                 0           0  \n",
       "5863                                0           1  \n",
       "86                                  0           1  \n",
       "...                               ...         ...  \n",
       "905                                 0           0  \n",
       "5192                                1           1  \n",
       "3980                                1           1  \n",
       "235                                 1           1  \n",
       "5157                                0           0  \n",
       "\n",
       "[4500 rows x 4 columns]"
      ]
     },
     "execution_count": 442,
     "metadata": {},
     "output_type": "execute_result"
    }
   ],
   "source": [
    "y_pred_train = X_train.copy()\n",
    "for name in models:\n",
    "     y_pred_train[f'Model_{name}'] = models[name].predict(X_train)\n",
    "\n",
    "y_pred_train =  y_pred_train[[x for x in  y_pred_train.columns if \"Model_\" in x]]\n",
    "y_pred_train['Prediccion'] = y_pred_train.apply(lambda x: int(sum(x * alphas) >=0.5), axis=1)\n",
    "y_pred_train"
   ]
  },
  {
   "cell_type": "markdown",
   "metadata": {},
   "source": [
    "Se calculan las métricas:"
   ]
  },
  {
   "cell_type": "code",
   "execution_count": 443,
   "metadata": {},
   "outputs": [
    {
     "data": {
      "text/plain": [
       "0.7208888888888889"
      ]
     },
     "execution_count": 443,
     "metadata": {},
     "output_type": "execute_result"
    }
   ],
   "source": [
    "metrics.accuracy_score(y_train, y_pred_train['Prediccion'])"
   ]
  },
  {
   "cell_type": "code",
   "execution_count": 444,
   "metadata": {},
   "outputs": [
    {
     "data": {
      "text/plain": [
       "0.6506666666666666"
      ]
     },
     "execution_count": 444,
     "metadata": {},
     "output_type": "execute_result"
    }
   ],
   "source": [
    "metrics.accuracy_score(y_test, y_pred['Prediccion'])"
   ]
  },
  {
   "cell_type": "code",
   "execution_count": 445,
   "metadata": {},
   "outputs": [
    {
     "data": {
      "text/plain": [
       "0.7159656264133876"
      ]
     },
     "execution_count": 445,
     "metadata": {},
     "output_type": "execute_result"
    }
   ],
   "source": [
    "metrics.f1_score(y_train, y_pred_train['Prediccion'])"
   ]
  },
  {
   "cell_type": "code",
   "execution_count": 446,
   "metadata": {},
   "outputs": [
    {
     "data": {
      "text/plain": [
       "0.6469002695417789"
      ]
     },
     "execution_count": 446,
     "metadata": {},
     "output_type": "execute_result"
    }
   ],
   "source": [
    "metrics.f1_score(y_test, y_pred['Prediccion'])"
   ]
  },
  {
   "cell_type": "markdown",
   "metadata": {},
   "source": [
    "Ahora, para cada uno de los clasificadores, se realiza el proceso de votación ponderada:"
   ]
  },
  {
   "cell_type": "code",
   "execution_count": 447,
   "metadata": {},
   "outputs": [],
   "source": [
    "# Votación ponderada para cada clasificador por aparte según sus errores\n",
    "# Esto es, haciendo votación ponderada dentro del bagging qeu realizan los modelos.\n",
    "\n",
    "def votacion_ponderada(clf, X_train, X_test, y_train, y_test):\n",
    "    # Predicción y desempeño al hacer votación mayoritaria\n",
    "    clf.fit(X_train, y_train)\n",
    "    y_pred = clf.predict(X_test)\n",
    "    metrics.f1_score(y_pred, y_test), metrics.accuracy_score(y_pred, y_test)\n",
    "    # Obtención de los pesos alpha de cada modelo de acuerdo al error OOB\n",
    "    errors = np.zeros(clf.n_estimators)\n",
    "    y_pred_all_ = np.zeros((X_test.shape[0], clf.n_estimators))\n",
    "\n",
    "    for i in range(clf.n_estimators):\n",
    "        oob_sample = ~clf.estimators_samples_[i]\n",
    "        y_pred_ = clf.estimators_[i].predict(X_train.values[oob_sample])\n",
    "        errors[i] = metrics.accuracy_score(y_pred_, y_train.values[oob_sample])\n",
    "        y_pred_all_[:, i] = clf.estimators_[i].predict(X_test)\n",
    "\n",
    "    alpha = (1 - errors) / (1 - errors).sum()\n",
    "    y_pred = (np.sum(y_pred_all_ * alpha, axis=1) >= 0.5).astype(np.int)\n",
    "    # Desempeño al hacer votación ponderada\n",
    "    print(\"f1\", metrics.f1_score(y_pred, y_test))\n",
    "    print(\"Accuracy\", metrics.accuracy_score(y_pred, y_test))\n"
   ]
  },
  {
   "cell_type": "code",
   "execution_count": 448,
   "metadata": {},
   "outputs": [
    {
     "name": "stdout",
     "output_type": "stream",
     "text": [
      "f1 0.6439545758183033\n",
      "Accuracy 0.6446666666666667\n"
     ]
    }
   ],
   "source": [
    "votacion_ponderada(BaggingClassifier(DecisionTreeClassifier(max_depth=2), n_estimators=300, \n",
    "                          bootstrap=True, oob_score=True, random_state=4269), X_train, X_test, y_train, y_test)"
   ]
  },
  {
   "cell_type": "code",
   "execution_count": 449,
   "metadata": {},
   "outputs": [
    {
     "name": "stdout",
     "output_type": "stream",
     "text": [
      "f1 0.6276978417266187\n",
      "Accuracy 0.632\n"
     ]
    }
   ],
   "source": [
    "votacion_ponderada(BaggingClassifier(DecisionTreeClassifier(max_depth=2), n_estimators=300, \n",
    "                          bootstrap=True, oob_score=True, random_state=4269), X_train,  X_train, y_train, y_train)"
   ]
  },
  {
   "cell_type": "code",
   "execution_count": 450,
   "metadata": {},
   "outputs": [
    {
     "name": "stdout",
     "output_type": "stream",
     "text": [
      "f1 0.6500672947510093\n",
      "Accuracy 0.6533333333333333\n"
     ]
    }
   ],
   "source": [
    "votacion_ponderada(BaggingClassifier(DecisionTreeClassifier(min_samples_leaf=10), n_estimators=300, \n",
    "                          bootstrap=True, oob_score=True, random_state=4269), X_train, X_test, y_train, y_test)"
   ]
  },
  {
   "cell_type": "code",
   "execution_count": 451,
   "metadata": {},
   "outputs": [
    {
     "name": "stdout",
     "output_type": "stream",
     "text": [
      "f1 0.921383647798742\n",
      "Accuracy 0.9222222222222223\n"
     ]
    }
   ],
   "source": [
    "votacion_ponderada(BaggingClassifier(DecisionTreeClassifier(min_samples_leaf=10), n_estimators=300, \n",
    "                          bootstrap=True, oob_score=True, random_state=4269), X_train, X_train, y_train, y_train)"
   ]
  },
  {
   "cell_type": "code",
   "execution_count": 452,
   "metadata": {},
   "outputs": [
    {
     "name": "stdout",
     "output_type": "stream",
     "text": [
      "f1 0.6108108108108109\n",
      "Accuracy 0.616\n"
     ]
    }
   ],
   "source": [
    "votacion_ponderada(BaggingClassifier(LogisticRegression(), n_estimators=300, \n",
    "                          bootstrap=True, oob_score=True, random_state=4269), X_train, X_test, y_train, y_test)\n"
   ]
  },
  {
   "cell_type": "code",
   "execution_count": 453,
   "metadata": {},
   "outputs": [
    {
     "name": "stdout",
     "output_type": "stream",
     "text": [
      "f1 0.6072080291970803\n",
      "Accuracy 0.6173333333333333\n"
     ]
    }
   ],
   "source": [
    "votacion_ponderada(BaggingClassifier(LogisticRegression(), n_estimators=300, \n",
    "                          bootstrap=True, oob_score=True, random_state=4269), X_train, X_train, y_train, y_train)\n"
   ]
  },
  {
   "cell_type": "markdown",
   "metadata": {},
   "source": [
    "Por último, como bonus (para explorar más alternativas), se toma cada uno de los modelos y se realiza una votación ponderada usando todos los posibles clasificadores. A priori, estimaría que este debe ser el peor modelo, pues sospecho que matemáticamente debe tender a ponderar a 0.5 y ser casi igual a tirar una moneda. Esto se debe a que espero que con 900 modelos, el error tienda a no ser tan diferente en los datos, y más viéndolos como son, y que el peso de los buenos predictores se vea \"diluido\" por los 600 modelos de los otros modelos. Creo que la forma en que se estima el peso no tendría buen desempeño dados los datos que se tienen.\n"
   ]
  },
  {
   "cell_type": "code",
   "execution_count": 454,
   "metadata": {},
   "outputs": [],
   "source": [
    "# Votación ponderada de los clasificadores\n",
    "# Se pondera para una lista de bagger classifiers cada uno de sus clasificadores individuales.\n",
    "\n",
    "\n",
    "\n",
    "def votacion_ponderada_multi_modelo(clfs, X_train, X_test, y_train, y_test):\n",
    "    # Predicción y desempeño al hacer votación mayoritaria\n",
    "    y_pred_all_clfs =[]\n",
    "    errors_clf=[]\n",
    "    for clf in clfs:\n",
    "        clf.fit(X_train, y_train)\n",
    "        y_pred = clf.predict(X_test)\n",
    "        metrics.f1_score(y_pred, y_test), metrics.accuracy_score(y_pred, y_test)\n",
    "        # Obtención de los pesos alpha de cada modelo de acuerdo al error OOB\n",
    "        errors = np.zeros(clf.n_estimators)\n",
    "        y_pred_all_ = np.zeros((X_test.shape[0], clf.n_estimators))\n",
    "\n",
    "        for i in range(clf.n_estimators):\n",
    "            oob_sample = ~clf.estimators_samples_[i]\n",
    "            y_pred_ = clf.estimators_[i].predict(X_train.values[oob_sample])\n",
    "            errors[i] = metrics.accuracy_score(y_pred_, y_train.values[oob_sample])\n",
    "            y_pred_all_[:, i] = clf.estimators_[i].predict(X_test)\n",
    "        errors_clf.append(errors)\n",
    "        y_pred_all_clfs.append( y_pred_all_)\n",
    "    errors_clf= np.array(errors_clf)\n",
    "    y_pred_all_clfs = np.array(y_pred_all_clfs)\n",
    "    y_pred_all_clfs = y_pred_all_clfs.reshape((X_test.shape[0], 3*clf.n_estimators))\n",
    "    errors_clf = errors_clf.reshape((3*clf.n_estimators))\n",
    "    alpha = (1 - errors_clf) / (1 - errors_clf).sum()\n",
    "    y_pred = (np.sum(y_pred_all_clfs * alpha, axis=1) >= 0.5).astype(np.int)\n",
    "    # Desempeño al hacer votación ponderada\n",
    "    print(\"f1\", metrics.f1_score(y_pred, y_test))\n",
    "    print(\"Accuracy\", metrics.accuracy_score(y_pred, y_test))"
   ]
  },
  {
   "cell_type": "code",
   "execution_count": 455,
   "metadata": {},
   "outputs": [],
   "source": [
    "clfs= [ BaggingClassifier(DecisionTreeClassifier(max_depth=2), n_estimators=300, \n",
    "                          bootstrap=True, oob_score=True, random_state=4269),\n",
    " BaggingClassifier(DecisionTreeClassifier(min_samples_leaf=10), n_estimators=300, \n",
    "                          bootstrap=True, oob_score=True, random_state=4269),\n",
    " BaggingClassifier(LogisticRegression(), n_estimators=300, \n",
    "                          bootstrap=True, oob_score=True, random_state=4269)]"
   ]
  },
  {
   "cell_type": "code",
   "execution_count": 456,
   "metadata": {},
   "outputs": [
    {
     "name": "stdout",
     "output_type": "stream",
     "text": [
      "f1 0.4934707903780069\n",
      "Accuracy 0.5086666666666667\n"
     ]
    }
   ],
   "source": [
    "votacion_ponderada_multi_modelo(clfs, X_train, X_test, y_train, y_test)"
   ]
  },
  {
   "cell_type": "code",
   "execution_count": 457,
   "metadata": {},
   "outputs": [
    {
     "name": "stdout",
     "output_type": "stream",
     "text": [
      "f1 0.47150735294117646\n",
      "Accuracy 0.4888888888888889\n"
     ]
    }
   ],
   "source": [
    "votacion_ponderada_multi_modelo(clfs, X_train, X_train, y_train, y_train)"
   ]
  },
  {
   "cell_type": "code",
   "execution_count": 458,
   "metadata": {},
   "outputs": [],
   "source": [
    "clfs= [ BaggingClassifier(DecisionTreeClassifier(max_depth=2), n_estimators=5, \n",
    "                          bootstrap=True, oob_score=True, random_state=4269),\n",
    " BaggingClassifier(DecisionTreeClassifier(min_samples_leaf=10), n_estimators=5, \n",
    "                          bootstrap=True, oob_score=True, random_state=4269),\n",
    " BaggingClassifier(LogisticRegression(), n_estimators=5, \n",
    "                          bootstrap=True, oob_score=True, random_state=4269)]"
   ]
  },
  {
   "cell_type": "code",
   "execution_count": 459,
   "metadata": {},
   "outputs": [
    {
     "name": "stdout",
     "output_type": "stream",
     "text": [
      "f1 0.4827099505998589\n",
      "Accuracy 0.5113333333333333\n"
     ]
    }
   ],
   "source": [
    "votacion_ponderada_multi_modelo(clfs, X_train, X_test, y_train, y_test)"
   ]
  },
  {
   "cell_type": "code",
   "execution_count": 460,
   "metadata": {},
   "outputs": [
    {
     "name": "stdout",
     "output_type": "stream",
     "text": [
      "f1 0.4667291471415182\n",
      "Accuracy 0.49422222222222223\n"
     ]
    }
   ],
   "source": [
    "votacion_ponderada_multi_modelo(clfs, X_train, X_train, y_train, y_train)"
   ]
  },
  {
   "cell_type": "markdown",
   "metadata": {},
   "source": [
    "Se obtiene un resultado malo, así se tengan muchos o pocos clasificadores. En dicho experiem"
   ]
  },
  {
   "cell_type": "markdown",
   "metadata": {},
   "source": [
    "### Punto 9 - Comparación y análisis de resultados\n",
    "En la celda 9 comente sobre los resultados obtenidos con las metodologías usadas en los puntos 7 y 8, compare los resultados y enuncie posibles ventajas o desventajas de cada una de ellas."
   ]
  },
  {
   "cell_type": "markdown",
   "metadata": {},
   "source": [
    "\n",
    "Las métricas de los modelos del punto 7 fueron:\n",
    "\n",
    "ACCURACY EN TEST\n",
    "\n",
    "- Bagg - Max Depth = 2: 0.6453333333333333\n",
    "- Bagg - Min Samples Leaf=10: 0.6526666666666666\n",
    "- Bag - Regresión logística: 0.618\n",
    "\n",
    "ACCURACY EN TRAIN\n",
    "\n",
    "- Bagg - Max Depth = 2: 0.6335555555555555\n",
    "- Bagg - Min Samples Leaf=10: 0.9053333333333333\n",
    "- Bag - Regresión logística: 0.6204444444444445\n",
    "\n",
    "f1 EN TEST\n",
    "\n",
    "- Bagg - Max Depth = 2: 0.6434316353887399\n",
    "- Bagg - Min Samples Leaf=10: 0.6570111915734035\n",
    "- Bag - Regresión logística: 0.613099257258609\n",
    "\n",
    "f1 EN TRAIN\n",
    "\n",
    "- Bagg - Max Depth = 2: 0.628184892897407\n",
    "- Bagg - Min Samples Leaf=10: 0.9055851063829787\n",
    "- Bag - Regresión logística: 0.6118181818181817\n",
    "\n",
    "De esto, observamos que los modelos tienen un comportamiento diferente entre sí (el modelo de min samples leaf=10 presenta un overfit severo, teniendo resultados del 90% en train para las métricas pero del 65% en test).\n",
    "\n",
    "Al aplicar la votación mayoritaria, tenemos:\n",
    "\n",
    "- ACCURACY EN TEST: 0.652\n",
    "- ACCURACY EN TRAIN: 0.71644444444444444\n",
    "- f1 EN TEST: 0.64919354\n",
    "- f1 EN TRAIN: 0.7115732\n",
    "\n",
    "Estos resultados mejoran el desempeño global respecto a los modelos de forma individual, ya que las métricas tienen a nivel general un mejor valor que los valores individuales de los modelos: tienen mejores métricas en test y train sin llegar a un overfit, como ocurre en el caso del modelo con min sample leaf=10. Así, es un mejor modelo ya que generaliza mejor.\n",
    "\n",
    "Para la votación ponderada, se obtienen resultados similares. Esto es porque los alphas estimados con el OOB son:\n",
    "\n",
    "[0.3320024 , 0.32421641, 0.34378119]\n",
    "\n",
    "Por tanto, es casi igual a la votación mayoritaria:\n",
    "\n",
    "- ACCURACY EN TEST: 0.6506\n",
    "- ACCURACY EN TRAIN: 0.720888888\n",
    "- f1 EN TEST: 0.64690026\n",
    "- f1 EN TRAIN: 0.7159656264\n",
    "\n",
    "Da en general básicamente el mismo resultado que con la votación mayoritaria (es posible que la diferencia sea porque se piden 100 estimadores por modelo para la votación por mayoría pero 300 para la ponderada). Pero, esto tiene sentido por los pesos obtenidos.\n",
    "\n",
    "Considero que ambos comparten la ventaja de disminuir la complejidad de búsqueda de un posible mejor modelo, permitiendo que el ensamblaje tienda a ser un mejor modelo por cuestiones estadísticas (no es imposible que un modelo individual sea mejor que el ensamblado, solo es menos probable). Esto permite encontrar un mejor modelo más rápido la mayoría de veces.\n",
    "\n",
    "Para el modelo de votación ponderada, creo que la dificultad de su funcionamiento es la asignación correcta de pesos. En el ejercicio, los modelos tendían a tener un desempeño similar como resultado del bagging y la complejidad de los datos, resultando en un OOB score muy similar para los modelos y por tanto, haciéndolo muy similar a votación mayoritaria (los pesos tienden al 33%). Esto seguramente tiene que ver con el hecho de la cantidad de modelos y que en general tienden a desempeños similares, además de ser un problema de clasificación (si tengo 3 pesos asociados a 3 variables binarias, tendré solo 6 posibles valores de las combinaciones. Si la variable respuesta fuese continua, seguramente vería más claramente las bondades del método).\n",
    "\n",
    "En general, veo que el desempeño de los modelos ensamblados es mejor que los modelos individuales sin entrar a complejas búsquedas exhaustivas computacionalmente inviables. Combinando modelos sencillos, se puede reducir la varianza y encontrar un mejor modelo que con solo un modelo sencillo, sin elevar el gasto computacional a niveles imprácticos. Hacer la combinación permite aprender de diferentes modelos las diferentes relaciones que pueden detectar.\n"
   ]
  },
  {
   "cell_type": "code",
   "execution_count": 461,
   "metadata": {},
   "outputs": [],
   "source": [
    "# Celda 9"
   ]
  }
 ],
 "metadata": {
  "kernelspec": {
   "display_name": "Python 3",
   "language": "python",
   "name": "python3"
  },
  "language_info": {
   "codemirror_mode": {
    "name": "ipython",
    "version": 3
   },
   "file_extension": ".py",
   "mimetype": "text/x-python",
   "name": "python",
   "nbconvert_exporter": "python",
   "pygments_lexer": "ipython3",
   "version": "3.8.8"
  }
 },
 "nbformat": 4,
 "nbformat_minor": 4
}
